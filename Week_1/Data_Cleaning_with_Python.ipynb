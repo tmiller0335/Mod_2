{
 "cells": [
  {
   "cell_type": "code",
   "execution_count": null,
   "id": "569454a5",
   "metadata": {},
   "outputs": [],
   "source": [
    "#import pandas  "
   ]
  },
  {
   "cell_type": "code",
   "execution_count": null,
   "id": "a59ea63c",
   "metadata": {},
   "outputs": [],
   "source": [
    "#read in the dataset"
   ]
  },
  {
   "cell_type": "code",
   "execution_count": null,
   "id": "bb0a80cb",
   "metadata": {},
   "outputs": [],
   "source": [
    "#first look at the data set"
   ]
  },
  {
   "cell_type": "code",
   "execution_count": null,
   "id": "316e4e8c",
   "metadata": {},
   "outputs": [],
   "source": [
    "#drop/rename columns"
   ]
  },
  {
   "cell_type": "code",
   "execution_count": null,
   "id": "3d55fdae",
   "metadata": {},
   "outputs": [],
   "source": [
    "#NaNs"
   ]
  },
  {
   "cell_type": "code",
   "execution_count": null,
   "id": "b65f53e0",
   "metadata": {},
   "outputs": [],
   "source": [
    "#Check column data types"
   ]
  },
  {
   "cell_type": "code",
   "execution_count": null,
   "id": "d7c7792c",
   "metadata": {},
   "outputs": [],
   "source": [
    "#bin columns"
   ]
  },
  {
   "cell_type": "code",
   "execution_count": null,
   "id": "55f8670a",
   "metadata": {},
   "outputs": [],
   "source": []
  },
  {
   "cell_type": "code",
   "execution_count": null,
   "id": "dea40965",
   "metadata": {},
   "outputs": [],
   "source": []
  },
  {
   "cell_type": "code",
   "execution_count": null,
   "id": "c7b64531",
   "metadata": {},
   "outputs": [],
   "source": []
  },
  {
   "cell_type": "code",
   "execution_count": null,
   "id": "36bb12b5",
   "metadata": {},
   "outputs": [],
   "source": []
  },
  {
   "cell_type": "code",
   "execution_count": null,
   "id": "600fe9ee",
   "metadata": {},
   "outputs": [],
   "source": []
  },
  {
   "cell_type": "code",
   "execution_count": null,
   "id": "75016e07",
   "metadata": {},
   "outputs": [],
   "source": []
  },
  {
   "cell_type": "code",
   "execution_count": null,
   "id": "bcfd9955",
   "metadata": {},
   "outputs": [],
   "source": []
  },
  {
   "cell_type": "code",
   "execution_count": null,
   "id": "9bb68305",
   "metadata": {},
   "outputs": [],
   "source": []
  },
  {
   "cell_type": "code",
   "execution_count": null,
   "id": "2385d2b3",
   "metadata": {},
   "outputs": [],
   "source": []
  },
  {
   "cell_type": "code",
   "execution_count": null,
   "id": "63b1365c",
   "metadata": {},
   "outputs": [],
   "source": []
  },
  {
   "cell_type": "code",
   "execution_count": null,
   "id": "d9c81df2",
   "metadata": {},
   "outputs": [],
   "source": []
  },
  {
   "cell_type": "code",
   "execution_count": null,
   "id": "e69cd5bb",
   "metadata": {},
   "outputs": [],
   "source": []
  },
  {
   "cell_type": "code",
   "execution_count": null,
   "id": "d7e81656",
   "metadata": {},
   "outputs": [],
   "source": []
  },
  {
   "cell_type": "code",
   "execution_count": null,
   "id": "68e86b39",
   "metadata": {},
   "outputs": [],
   "source": []
  }
 ],
 "metadata": {
  "language_info": {
   "name": "python"
  }
 },
 "nbformat": 4,
 "nbformat_minor": 5
}
