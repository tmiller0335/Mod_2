{
 "cells": [
  {
   "cell_type": "code",
   "execution_count": 2,
   "id": "227e4825",
   "metadata": {},
   "outputs": [],
   "source": [
    "import pandas as pd"
   ]
  },
  {
   "cell_type": "code",
   "execution_count": null,
   "id": "011c2a68",
   "metadata": {},
   "outputs": [
    {
     "data": {
      "application/vnd.microsoft.datawrangler.viewer.v0+json": {
       "columns": [
        {
         "name": "index",
         "rawType": "int64",
         "type": "integer"
        },
        {
         "name": "Country",
         "rawType": "object",
         "type": "string"
        },
        {
         "name": "Region",
         "rawType": "object",
         "type": "string"
        }
       ],
       "ref": "ae464895-d210-495a-a787-94a17c26356e",
       "rows": [
        [
         "0",
         "Afghanistan ",
         "ASIA (EX. NEAR EAST)         "
        ],
        [
         "1",
         "Albania ",
         "EASTERN EUROPE                     "
        ],
        [
         "2",
         "Algeria ",
         "NORTHERN AFRICA                    "
        ],
        [
         "3",
         "American Samoa ",
         "OCEANIA                            "
        ],
        [
         "4",
         "Andorra ",
         "WESTERN EUROPE                     "
        ],
        [
         "5",
         "Angola ",
         "SUB-SAHARAN AFRICA                 "
        ],
        [
         "6",
         "Anguilla ",
         "LATIN AMER. & CARIB    "
        ],
        [
         "7",
         "Antigua & Barbuda ",
         "LATIN AMER. & CARIB    "
        ],
        [
         "8",
         "Argentina ",
         "LATIN AMER. & CARIB    "
        ],
        [
         "9",
         "Armenia ",
         "C.W. OF IND. STATES "
        ],
        [
         "10",
         "Aruba ",
         "LATIN AMER. & CARIB    "
        ],
        [
         "11",
         "Australia ",
         "OCEANIA                            "
        ],
        [
         "12",
         "Austria ",
         "WESTERN EUROPE                     "
        ],
        [
         "13",
         "Azerbaijan ",
         "C.W. OF IND. STATES "
        ],
        [
         "14",
         "Bahamas, The ",
         "LATIN AMER. & CARIB    "
        ],
        [
         "15",
         "Bahrain ",
         "NEAR EAST                          "
        ],
        [
         "16",
         "Bangladesh ",
         "ASIA (EX. NEAR EAST)         "
        ],
        [
         "17",
         "Barbados ",
         "LATIN AMER. & CARIB    "
        ],
        [
         "18",
         "Belarus ",
         "C.W. OF IND. STATES "
        ],
        [
         "19",
         "Belgium ",
         "WESTERN EUROPE                     "
        ],
        [
         "20",
         "Belize ",
         "LATIN AMER. & CARIB    "
        ],
        [
         "21",
         "Benin ",
         "SUB-SAHARAN AFRICA                 "
        ],
        [
         "22",
         "Bermuda ",
         "NORTHERN AMERICA                   "
        ],
        [
         "23",
         "Bhutan ",
         "ASIA (EX. NEAR EAST)         "
        ],
        [
         "24",
         "Bolivia ",
         "LATIN AMER. & CARIB    "
        ],
        [
         "25",
         "Bosnia & Herzegovina ",
         "EASTERN EUROPE                     "
        ],
        [
         "26",
         "Botswana ",
         "SUB-SAHARAN AFRICA                 "
        ],
        [
         "27",
         "Brazil ",
         "LATIN AMER. & CARIB    "
        ],
        [
         "28",
         "British Virgin Is. ",
         "LATIN AMER. & CARIB    "
        ],
        [
         "29",
         "Brunei ",
         "ASIA (EX. NEAR EAST)         "
        ],
        [
         "30",
         "Bulgaria ",
         "EASTERN EUROPE                     "
        ],
        [
         "31",
         "Burkina Faso ",
         "SUB-SAHARAN AFRICA                 "
        ],
        [
         "32",
         "Burma ",
         "ASIA (EX. NEAR EAST)         "
        ],
        [
         "33",
         "Burundi ",
         "SUB-SAHARAN AFRICA                 "
        ],
        [
         "34",
         "Cambodia ",
         "ASIA (EX. NEAR EAST)         "
        ],
        [
         "35",
         "Cameroon ",
         "SUB-SAHARAN AFRICA                 "
        ],
        [
         "36",
         "Canada ",
         "NORTHERN AMERICA                   "
        ],
        [
         "37",
         "Cape Verde ",
         "SUB-SAHARAN AFRICA                 "
        ],
        [
         "38",
         "Cayman Islands ",
         "LATIN AMER. & CARIB    "
        ],
        [
         "39",
         "Central African Rep. ",
         "SUB-SAHARAN AFRICA                 "
        ],
        [
         "40",
         "Chad ",
         "SUB-SAHARAN AFRICA                 "
        ],
        [
         "41",
         "Chile ",
         "LATIN AMER. & CARIB    "
        ],
        [
         "42",
         "China ",
         "ASIA (EX. NEAR EAST)         "
        ],
        [
         "43",
         "Colombia ",
         "LATIN AMER. & CARIB    "
        ],
        [
         "44",
         "Comoros ",
         "SUB-SAHARAN AFRICA                 "
        ],
        [
         "45",
         "Congo, Dem. Rep. ",
         "SUB-SAHARAN AFRICA                 "
        ],
        [
         "46",
         "Congo, Repub. of the ",
         "SUB-SAHARAN AFRICA                 "
        ],
        [
         "47",
         "Cook Islands ",
         "OCEANIA                            "
        ],
        [
         "48",
         "Costa Rica ",
         "LATIN AMER. & CARIB    "
        ],
        [
         "49",
         "Cote d'Ivoire ",
         "SUB-SAHARAN AFRICA                 "
        ]
       ],
       "shape": {
        "columns": 2,
        "rows": 227
       }
      },
      "text/html": [
       "<div>\n",
       "<style scoped>\n",
       "    .dataframe tbody tr th:only-of-type {\n",
       "        vertical-align: middle;\n",
       "    }\n",
       "\n",
       "    .dataframe tbody tr th {\n",
       "        vertical-align: top;\n",
       "    }\n",
       "\n",
       "    .dataframe thead th {\n",
       "        text-align: right;\n",
       "    }\n",
       "</style>\n",
       "<table border=\"1\" class=\"dataframe\">\n",
       "  <thead>\n",
       "    <tr style=\"text-align: right;\">\n",
       "      <th></th>\n",
       "      <th>Country</th>\n",
       "      <th>Region</th>\n",
       "    </tr>\n",
       "  </thead>\n",
       "  <tbody>\n",
       "    <tr>\n",
       "      <th>0</th>\n",
       "      <td>Afghanistan</td>\n",
       "      <td>ASIA (EX. NEAR EAST)</td>\n",
       "    </tr>\n",
       "    <tr>\n",
       "      <th>1</th>\n",
       "      <td>Albania</td>\n",
       "      <td>EASTERN EUROPE</td>\n",
       "    </tr>\n",
       "    <tr>\n",
       "      <th>2</th>\n",
       "      <td>Algeria</td>\n",
       "      <td>NORTHERN AFRICA</td>\n",
       "    </tr>\n",
       "    <tr>\n",
       "      <th>3</th>\n",
       "      <td>American Samoa</td>\n",
       "      <td>OCEANIA</td>\n",
       "    </tr>\n",
       "    <tr>\n",
       "      <th>4</th>\n",
       "      <td>Andorra</td>\n",
       "      <td>WESTERN EUROPE</td>\n",
       "    </tr>\n",
       "    <tr>\n",
       "      <th>...</th>\n",
       "      <td>...</td>\n",
       "      <td>...</td>\n",
       "    </tr>\n",
       "    <tr>\n",
       "      <th>222</th>\n",
       "      <td>West Bank</td>\n",
       "      <td>NEAR EAST</td>\n",
       "    </tr>\n",
       "    <tr>\n",
       "      <th>223</th>\n",
       "      <td>Western Sahara</td>\n",
       "      <td>NORTHERN AFRICA</td>\n",
       "    </tr>\n",
       "    <tr>\n",
       "      <th>224</th>\n",
       "      <td>Yemen</td>\n",
       "      <td>NEAR EAST</td>\n",
       "    </tr>\n",
       "    <tr>\n",
       "      <th>225</th>\n",
       "      <td>Zambia</td>\n",
       "      <td>SUB-SAHARAN AFRICA</td>\n",
       "    </tr>\n",
       "    <tr>\n",
       "      <th>226</th>\n",
       "      <td>Zimbabwe</td>\n",
       "      <td>SUB-SAHARAN AFRICA</td>\n",
       "    </tr>\n",
       "  </tbody>\n",
       "</table>\n",
       "<p>227 rows × 2 columns</p>\n",
       "</div>"
      ],
      "text/plain": [
       "             Country                               Region\n",
       "0       Afghanistan         ASIA (EX. NEAR EAST)         \n",
       "1           Albania   EASTERN EUROPE                     \n",
       "2           Algeria   NORTHERN AFRICA                    \n",
       "3    American Samoa   OCEANIA                            \n",
       "4           Andorra   WESTERN EUROPE                     \n",
       "..               ...                                  ...\n",
       "222       West Bank   NEAR EAST                          \n",
       "223  Western Sahara   NORTHERN AFRICA                    \n",
       "224           Yemen   NEAR EAST                          \n",
       "225          Zambia   SUB-SAHARAN AFRICA                 \n",
       "226        Zimbabwe   SUB-SAHARAN AFRICA                 \n",
       "\n",
       "[227 rows x 2 columns]"
      ]
     },
     "execution_count": 6,
     "metadata": {},
     "output_type": "execute_result"
    }
   ],
   "source": [
    "#df = Data Frame \n",
    "#read_cvs to pull CVS files\n",
    "df = pd.read_csv(r\"C:\\Users\\tm96\\Documents\\Projects\\Python_Stuff\\Mod_2\\Week_1\\Data_Sets\\countries of the world.csv\")\n",
    "df #how you call the data frame\n"
   ]
  },
  {
   "cell_type": "code",
   "execution_count": 8,
   "id": "e1a59d4e",
   "metadata": {},
   "outputs": [
    {
     "data": {
      "application/vnd.microsoft.datawrangler.viewer.v0+json": {
       "columns": [
        {
         "name": "index",
         "rawType": "int64",
         "type": "integer"
        },
        {
         "name": "Country",
         "rawType": "object",
         "type": "string"
        },
        {
         "name": "Region",
         "rawType": "object",
         "type": "string"
        }
       ],
       "ref": "abcc7d79-c5e8-4029-ad1b-caa5051091bb",
       "rows": [
        [
         "0",
         "Afghanistan ",
         "ASIA (EX. NEAR EAST)         "
        ],
        [
         "1",
         "Albania ",
         "EASTERN EUROPE                     "
        ],
        [
         "2",
         "Algeria ",
         "NORTHERN AFRICA                    "
        ],
        [
         "3",
         "American Samoa ",
         "OCEANIA                            "
        ],
        [
         "4",
         "Andorra ",
         "WESTERN EUROPE                     "
        ],
        [
         "5",
         "Angola ",
         "SUB-SAHARAN AFRICA                 "
        ],
        [
         "6",
         "Anguilla ",
         "LATIN AMER. & CARIB    "
        ],
        [
         "7",
         "Antigua & Barbuda ",
         "LATIN AMER. & CARIB    "
        ],
        [
         "8",
         "Argentina ",
         "LATIN AMER. & CARIB    "
        ],
        [
         "9",
         "Armenia ",
         "C.W. OF IND. STATES "
        ],
        [
         "10",
         "Aruba ",
         "LATIN AMER. & CARIB    "
        ],
        [
         "11",
         "Australia ",
         "OCEANIA                            "
        ],
        [
         "12",
         "Austria ",
         "WESTERN EUROPE                     "
        ],
        [
         "13",
         "Azerbaijan ",
         "C.W. OF IND. STATES "
        ],
        [
         "14",
         "Bahamas, The ",
         "LATIN AMER. & CARIB    "
        ],
        [
         "15",
         "Bahrain ",
         "NEAR EAST                          "
        ],
        [
         "16",
         "Bangladesh ",
         "ASIA (EX. NEAR EAST)         "
        ],
        [
         "17",
         "Barbados ",
         "LATIN AMER. & CARIB    "
        ],
        [
         "18",
         "Belarus ",
         "C.W. OF IND. STATES "
        ],
        [
         "19",
         "Belgium ",
         "WESTERN EUROPE                     "
        ],
        [
         "20",
         "Belize ",
         "LATIN AMER. & CARIB    "
        ],
        [
         "21",
         "Benin ",
         "SUB-SAHARAN AFRICA                 "
        ],
        [
         "22",
         "Bermuda ",
         "NORTHERN AMERICA                   "
        ],
        [
         "23",
         "Bhutan ",
         "ASIA (EX. NEAR EAST)         "
        ],
        [
         "24",
         "Bolivia ",
         "LATIN AMER. & CARIB    "
        ],
        [
         "25",
         "Bosnia & Herzegovina ",
         "EASTERN EUROPE                     "
        ],
        [
         "26",
         "Botswana ",
         "SUB-SAHARAN AFRICA                 "
        ],
        [
         "27",
         "Brazil ",
         "LATIN AMER. & CARIB    "
        ],
        [
         "28",
         "British Virgin Is. ",
         "LATIN AMER. & CARIB    "
        ],
        [
         "29",
         "Brunei ",
         "ASIA (EX. NEAR EAST)         "
        ],
        [
         "30",
         "Bulgaria ",
         "EASTERN EUROPE                     "
        ],
        [
         "31",
         "Burkina Faso ",
         "SUB-SAHARAN AFRICA                 "
        ],
        [
         "32",
         "Burma ",
         "ASIA (EX. NEAR EAST)         "
        ],
        [
         "33",
         "Burundi ",
         "SUB-SAHARAN AFRICA                 "
        ],
        [
         "34",
         "Cambodia ",
         "ASIA (EX. NEAR EAST)         "
        ],
        [
         "35",
         "Cameroon ",
         "SUB-SAHARAN AFRICA                 "
        ],
        [
         "36",
         "Canada ",
         "NORTHERN AMERICA                   "
        ],
        [
         "37",
         "Cape Verde ",
         "SUB-SAHARAN AFRICA                 "
        ],
        [
         "38",
         "Cayman Islands ",
         "LATIN AMER. & CARIB    "
        ],
        [
         "39",
         "Central African Rep. ",
         "SUB-SAHARAN AFRICA                 "
        ],
        [
         "40",
         "Chad ",
         "SUB-SAHARAN AFRICA                 "
        ],
        [
         "41",
         "Chile ",
         "LATIN AMER. & CARIB    "
        ],
        [
         "42",
         "China ",
         "ASIA (EX. NEAR EAST)         "
        ],
        [
         "43",
         "Colombia ",
         "LATIN AMER. & CARIB    "
        ],
        [
         "44",
         "Comoros ",
         "SUB-SAHARAN AFRICA                 "
        ],
        [
         "45",
         "Congo, Dem. Rep. ",
         "SUB-SAHARAN AFRICA                 "
        ],
        [
         "46",
         "Congo, Repub. of the ",
         "SUB-SAHARAN AFRICA                 "
        ],
        [
         "47",
         "Cook Islands ",
         "OCEANIA                            "
        ],
        [
         "48",
         "Costa Rica ",
         "LATIN AMER. & CARIB    "
        ],
        [
         "49",
         "Cote d'Ivoire ",
         "SUB-SAHARAN AFRICA                 "
        ]
       ],
       "shape": {
        "columns": 2,
        "rows": 227
       }
      },
      "text/html": [
       "<div>\n",
       "<style scoped>\n",
       "    .dataframe tbody tr th:only-of-type {\n",
       "        vertical-align: middle;\n",
       "    }\n",
       "\n",
       "    .dataframe tbody tr th {\n",
       "        vertical-align: top;\n",
       "    }\n",
       "\n",
       "    .dataframe thead th {\n",
       "        text-align: right;\n",
       "    }\n",
       "</style>\n",
       "<table border=\"1\" class=\"dataframe\">\n",
       "  <thead>\n",
       "    <tr style=\"text-align: right;\">\n",
       "      <th></th>\n",
       "      <th>Country</th>\n",
       "      <th>Region</th>\n",
       "    </tr>\n",
       "  </thead>\n",
       "  <tbody>\n",
       "    <tr>\n",
       "      <th>0</th>\n",
       "      <td>Afghanistan</td>\n",
       "      <td>ASIA (EX. NEAR EAST)</td>\n",
       "    </tr>\n",
       "    <tr>\n",
       "      <th>1</th>\n",
       "      <td>Albania</td>\n",
       "      <td>EASTERN EUROPE</td>\n",
       "    </tr>\n",
       "    <tr>\n",
       "      <th>2</th>\n",
       "      <td>Algeria</td>\n",
       "      <td>NORTHERN AFRICA</td>\n",
       "    </tr>\n",
       "    <tr>\n",
       "      <th>3</th>\n",
       "      <td>American Samoa</td>\n",
       "      <td>OCEANIA</td>\n",
       "    </tr>\n",
       "    <tr>\n",
       "      <th>4</th>\n",
       "      <td>Andorra</td>\n",
       "      <td>WESTERN EUROPE</td>\n",
       "    </tr>\n",
       "    <tr>\n",
       "      <th>...</th>\n",
       "      <td>...</td>\n",
       "      <td>...</td>\n",
       "    </tr>\n",
       "    <tr>\n",
       "      <th>222</th>\n",
       "      <td>West Bank</td>\n",
       "      <td>NEAR EAST</td>\n",
       "    </tr>\n",
       "    <tr>\n",
       "      <th>223</th>\n",
       "      <td>Western Sahara</td>\n",
       "      <td>NORTHERN AFRICA</td>\n",
       "    </tr>\n",
       "    <tr>\n",
       "      <th>224</th>\n",
       "      <td>Yemen</td>\n",
       "      <td>NEAR EAST</td>\n",
       "    </tr>\n",
       "    <tr>\n",
       "      <th>225</th>\n",
       "      <td>Zambia</td>\n",
       "      <td>SUB-SAHARAN AFRICA</td>\n",
       "    </tr>\n",
       "    <tr>\n",
       "      <th>226</th>\n",
       "      <td>Zimbabwe</td>\n",
       "      <td>SUB-SAHARAN AFRICA</td>\n",
       "    </tr>\n",
       "  </tbody>\n",
       "</table>\n",
       "<p>227 rows × 2 columns</p>\n",
       "</div>"
      ],
      "text/plain": [
       "             Country                               Region\n",
       "0       Afghanistan         ASIA (EX. NEAR EAST)         \n",
       "1           Albania   EASTERN EUROPE                     \n",
       "2           Algeria   NORTHERN AFRICA                    \n",
       "3    American Samoa   OCEANIA                            \n",
       "4           Andorra   WESTERN EUROPE                     \n",
       "..               ...                                  ...\n",
       "222       West Bank   NEAR EAST                          \n",
       "223  Western Sahara   NORTHERN AFRICA                    \n",
       "224           Yemen   NEAR EAST                          \n",
       "225          Zambia   SUB-SAHARAN AFRICA                 \n",
       "226        Zimbabwe   SUB-SAHARAN AFRICA                 \n",
       "\n",
       "[227 rows x 2 columns]"
      ]
     },
     "execution_count": 8,
     "metadata": {},
     "output_type": "execute_result"
    }
   ],
   "source": [
    "#read_txt to pull txt files\n",
    "##read_cvs will still pull txt files, but may not import correctly\n",
    "#to fix the issues using cvs at the end of your file path add sep = '\\t'\n",
    "df = pd.read_csv(r\"C:\\Users\\tm96\\Documents\\Projects\\Python_Stuff\\Mod_2\\Week_1\\Data_Sets\\countries of the world.txt\", sep = '\\t')\n",
    "df \n"
   ]
  },
  {
   "cell_type": "code",
   "execution_count": null,
   "id": "cb39ce9c",
   "metadata": {},
   "outputs": [],
   "source": []
  },
  {
   "cell_type": "code",
   "execution_count": null,
   "id": "1fa86aee",
   "metadata": {},
   "outputs": [],
   "source": []
  },
  {
   "cell_type": "code",
   "execution_count": null,
   "id": "1f2e3fa8",
   "metadata": {},
   "outputs": [],
   "source": []
  },
  {
   "cell_type": "code",
   "execution_count": null,
   "id": "d8b1a165",
   "metadata": {},
   "outputs": [],
   "source": []
  },
  {
   "cell_type": "code",
   "execution_count": null,
   "id": "3f5af7c5",
   "metadata": {},
   "outputs": [],
   "source": []
  },
  {
   "cell_type": "code",
   "execution_count": null,
   "id": "932c350e",
   "metadata": {},
   "outputs": [],
   "source": []
  },
  {
   "cell_type": "code",
   "execution_count": null,
   "id": "dfc30cdf",
   "metadata": {},
   "outputs": [],
   "source": []
  },
  {
   "cell_type": "code",
   "execution_count": null,
   "id": "99b6d39a",
   "metadata": {},
   "outputs": [],
   "source": []
  },
  {
   "cell_type": "code",
   "execution_count": null,
   "id": "d4d531a7",
   "metadata": {},
   "outputs": [],
   "source": []
  }
 ],
 "metadata": {
  "kernelspec": {
   "display_name": "Python 3",
   "language": "python",
   "name": "python3"
  },
  "language_info": {
   "codemirror_mode": {
    "name": "ipython",
    "version": 3
   },
   "file_extension": ".py",
   "mimetype": "text/x-python",
   "name": "python",
   "nbconvert_exporter": "python",
   "pygments_lexer": "ipython3",
   "version": "3.13.5"
  }
 },
 "nbformat": 4,
 "nbformat_minor": 5
}
