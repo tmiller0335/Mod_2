{
 "cells": [
  {
   "cell_type": "code",
   "execution_count": 3,
   "id": "227e4825",
   "metadata": {},
   "outputs": [],
   "source": [
    "import pandas as pd\n",
    "import openpyxl as xl\n",
    "\n"
   ]
  },
  {
   "cell_type": "code",
   "execution_count": null,
   "id": "011c2a68",
   "metadata": {},
   "outputs": [
    {
     "data": {
      "application/vnd.microsoft.datawrangler.viewer.v0+json": {
       "columns": [
        {
         "name": "index",
         "rawType": "int64",
         "type": "integer"
        },
        {
         "name": "Country",
         "rawType": "object",
         "type": "string"
        },
        {
         "name": "Region",
         "rawType": "object",
         "type": "string"
        }
       ],
       "ref": "ae464895-d210-495a-a787-94a17c26356e",
       "rows": [
        [
         "0",
         "Afghanistan ",
         "ASIA (EX. NEAR EAST)         "
        ],
        [
         "1",
         "Albania ",
         "EASTERN EUROPE                     "
        ],
        [
         "2",
         "Algeria ",
         "NORTHERN AFRICA                    "
        ],
        [
         "3",
         "American Samoa ",
         "OCEANIA                            "
        ],
        [
         "4",
         "Andorra ",
         "WESTERN EUROPE                     "
        ],
        [
         "5",
         "Angola ",
         "SUB-SAHARAN AFRICA                 "
        ],
        [
         "6",
         "Anguilla ",
         "LATIN AMER. & CARIB    "
        ],
        [
         "7",
         "Antigua & Barbuda ",
         "LATIN AMER. & CARIB    "
        ],
        [
         "8",
         "Argentina ",
         "LATIN AMER. & CARIB    "
        ],
        [
         "9",
         "Armenia ",
         "C.W. OF IND. STATES "
        ],
        [
         "10",
         "Aruba ",
         "LATIN AMER. & CARIB    "
        ],
        [
         "11",
         "Australia ",
         "OCEANIA                            "
        ],
        [
         "12",
         "Austria ",
         "WESTERN EUROPE                     "
        ],
        [
         "13",
         "Azerbaijan ",
         "C.W. OF IND. STATES "
        ],
        [
         "14",
         "Bahamas, The ",
         "LATIN AMER. & CARIB    "
        ],
        [
         "15",
         "Bahrain ",
         "NEAR EAST                          "
        ],
        [
         "16",
         "Bangladesh ",
         "ASIA (EX. NEAR EAST)         "
        ],
        [
         "17",
         "Barbados ",
         "LATIN AMER. & CARIB    "
        ],
        [
         "18",
         "Belarus ",
         "C.W. OF IND. STATES "
        ],
        [
         "19",
         "Belgium ",
         "WESTERN EUROPE                     "
        ],
        [
         "20",
         "Belize ",
         "LATIN AMER. & CARIB    "
        ],
        [
         "21",
         "Benin ",
         "SUB-SAHARAN AFRICA                 "
        ],
        [
         "22",
         "Bermuda ",
         "NORTHERN AMERICA                   "
        ],
        [
         "23",
         "Bhutan ",
         "ASIA (EX. NEAR EAST)         "
        ],
        [
         "24",
         "Bolivia ",
         "LATIN AMER. & CARIB    "
        ],
        [
         "25",
         "Bosnia & Herzegovina ",
         "EASTERN EUROPE                     "
        ],
        [
         "26",
         "Botswana ",
         "SUB-SAHARAN AFRICA                 "
        ],
        [
         "27",
         "Brazil ",
         "LATIN AMER. & CARIB    "
        ],
        [
         "28",
         "British Virgin Is. ",
         "LATIN AMER. & CARIB    "
        ],
        [
         "29",
         "Brunei ",
         "ASIA (EX. NEAR EAST)         "
        ],
        [
         "30",
         "Bulgaria ",
         "EASTERN EUROPE                     "
        ],
        [
         "31",
         "Burkina Faso ",
         "SUB-SAHARAN AFRICA                 "
        ],
        [
         "32",
         "Burma ",
         "ASIA (EX. NEAR EAST)         "
        ],
        [
         "33",
         "Burundi ",
         "SUB-SAHARAN AFRICA                 "
        ],
        [
         "34",
         "Cambodia ",
         "ASIA (EX. NEAR EAST)         "
        ],
        [
         "35",
         "Cameroon ",
         "SUB-SAHARAN AFRICA                 "
        ],
        [
         "36",
         "Canada ",
         "NORTHERN AMERICA                   "
        ],
        [
         "37",
         "Cape Verde ",
         "SUB-SAHARAN AFRICA                 "
        ],
        [
         "38",
         "Cayman Islands ",
         "LATIN AMER. & CARIB    "
        ],
        [
         "39",
         "Central African Rep. ",
         "SUB-SAHARAN AFRICA                 "
        ],
        [
         "40",
         "Chad ",
         "SUB-SAHARAN AFRICA                 "
        ],
        [
         "41",
         "Chile ",
         "LATIN AMER. & CARIB    "
        ],
        [
         "42",
         "China ",
         "ASIA (EX. NEAR EAST)         "
        ],
        [
         "43",
         "Colombia ",
         "LATIN AMER. & CARIB    "
        ],
        [
         "44",
         "Comoros ",
         "SUB-SAHARAN AFRICA                 "
        ],
        [
         "45",
         "Congo, Dem. Rep. ",
         "SUB-SAHARAN AFRICA                 "
        ],
        [
         "46",
         "Congo, Repub. of the ",
         "SUB-SAHARAN AFRICA                 "
        ],
        [
         "47",
         "Cook Islands ",
         "OCEANIA                            "
        ],
        [
         "48",
         "Costa Rica ",
         "LATIN AMER. & CARIB    "
        ],
        [
         "49",
         "Cote d'Ivoire ",
         "SUB-SAHARAN AFRICA                 "
        ]
       ],
       "shape": {
        "columns": 2,
        "rows": 227
       }
      },
      "text/html": [
       "<div>\n",
       "<style scoped>\n",
       "    .dataframe tbody tr th:only-of-type {\n",
       "        vertical-align: middle;\n",
       "    }\n",
       "\n",
       "    .dataframe tbody tr th {\n",
       "        vertical-align: top;\n",
       "    }\n",
       "\n",
       "    .dataframe thead th {\n",
       "        text-align: right;\n",
       "    }\n",
       "</style>\n",
       "<table border=\"1\" class=\"dataframe\">\n",
       "  <thead>\n",
       "    <tr style=\"text-align: right;\">\n",
       "      <th></th>\n",
       "      <th>Country</th>\n",
       "      <th>Region</th>\n",
       "    </tr>\n",
       "  </thead>\n",
       "  <tbody>\n",
       "    <tr>\n",
       "      <th>0</th>\n",
       "      <td>Afghanistan</td>\n",
       "      <td>ASIA (EX. NEAR EAST)</td>\n",
       "    </tr>\n",
       "    <tr>\n",
       "      <th>1</th>\n",
       "      <td>Albania</td>\n",
       "      <td>EASTERN EUROPE</td>\n",
       "    </tr>\n",
       "    <tr>\n",
       "      <th>2</th>\n",
       "      <td>Algeria</td>\n",
       "      <td>NORTHERN AFRICA</td>\n",
       "    </tr>\n",
       "    <tr>\n",
       "      <th>3</th>\n",
       "      <td>American Samoa</td>\n",
       "      <td>OCEANIA</td>\n",
       "    </tr>\n",
       "    <tr>\n",
       "      <th>4</th>\n",
       "      <td>Andorra</td>\n",
       "      <td>WESTERN EUROPE</td>\n",
       "    </tr>\n",
       "    <tr>\n",
       "      <th>...</th>\n",
       "      <td>...</td>\n",
       "      <td>...</td>\n",
       "    </tr>\n",
       "    <tr>\n",
       "      <th>222</th>\n",
       "      <td>West Bank</td>\n",
       "      <td>NEAR EAST</td>\n",
       "    </tr>\n",
       "    <tr>\n",
       "      <th>223</th>\n",
       "      <td>Western Sahara</td>\n",
       "      <td>NORTHERN AFRICA</td>\n",
       "    </tr>\n",
       "    <tr>\n",
       "      <th>224</th>\n",
       "      <td>Yemen</td>\n",
       "      <td>NEAR EAST</td>\n",
       "    </tr>\n",
       "    <tr>\n",
       "      <th>225</th>\n",
       "      <td>Zambia</td>\n",
       "      <td>SUB-SAHARAN AFRICA</td>\n",
       "    </tr>\n",
       "    <tr>\n",
       "      <th>226</th>\n",
       "      <td>Zimbabwe</td>\n",
       "      <td>SUB-SAHARAN AFRICA</td>\n",
       "    </tr>\n",
       "  </tbody>\n",
       "</table>\n",
       "<p>227 rows × 2 columns</p>\n",
       "</div>"
      ],
      "text/plain": [
       "             Country                               Region\n",
       "0       Afghanistan         ASIA (EX. NEAR EAST)         \n",
       "1           Albania   EASTERN EUROPE                     \n",
       "2           Algeria   NORTHERN AFRICA                    \n",
       "3    American Samoa   OCEANIA                            \n",
       "4           Andorra   WESTERN EUROPE                     \n",
       "..               ...                                  ...\n",
       "222       West Bank   NEAR EAST                          \n",
       "223  Western Sahara   NORTHERN AFRICA                    \n",
       "224           Yemen   NEAR EAST                          \n",
       "225          Zambia   SUB-SAHARAN AFRICA                 \n",
       "226        Zimbabwe   SUB-SAHARAN AFRICA                 \n",
       "\n",
       "[227 rows x 2 columns]"
      ]
     },
     "execution_count": 6,
     "metadata": {},
     "output_type": "execute_result"
    }
   ],
   "source": [
    "#df = Data Frame \n",
    "#read_cvs to pull CVS files\n",
    "df = pd.read_csv(r\"C:\\Users\\tm96\\Documents\\Projects\\Python_Stuff\\Mod_2\\Week_1\\Data_Sets\\countries of the world.csv\")\n",
    "df #how you call the data frame\n"
   ]
  },
  {
   "cell_type": "code",
   "execution_count": null,
   "id": "f3d6cee6",
   "metadata": {},
   "outputs": [],
   "source": []
  },
  {
   "cell_type": "code",
   "execution_count": 10,
   "id": "e1a59d4e",
   "metadata": {},
   "outputs": [
    {
     "data": {
      "application/vnd.microsoft.datawrangler.viewer.v0+json": {
       "columns": [
        {
         "name": "index",
         "rawType": "int64",
         "type": "integer"
        },
        {
         "name": "Country",
         "rawType": "object",
         "type": "string"
        },
        {
         "name": "Region",
         "rawType": "object",
         "type": "string"
        }
       ],
       "ref": "d167f2d9-87bd-448d-a20a-34c08c0b26f7",
       "rows": [
        [
         "0",
         "Afghanistan ",
         "ASIA (EX. NEAR EAST)         "
        ],
        [
         "1",
         "Albania ",
         "EASTERN EUROPE                     "
        ],
        [
         "2",
         "Algeria ",
         "NORTHERN AFRICA                    "
        ],
        [
         "3",
         "American Samoa ",
         "OCEANIA                            "
        ],
        [
         "4",
         "Andorra ",
         "WESTERN EUROPE                     "
        ],
        [
         "5",
         "Angola ",
         "SUB-SAHARAN AFRICA                 "
        ],
        [
         "6",
         "Anguilla ",
         "LATIN AMER. & CARIB    "
        ],
        [
         "7",
         "Antigua & Barbuda ",
         "LATIN AMER. & CARIB    "
        ],
        [
         "8",
         "Argentina ",
         "LATIN AMER. & CARIB    "
        ],
        [
         "9",
         "Armenia ",
         "C.W. OF IND. STATES "
        ],
        [
         "10",
         "Aruba ",
         "LATIN AMER. & CARIB    "
        ],
        [
         "11",
         "Australia ",
         "OCEANIA                            "
        ],
        [
         "12",
         "Austria ",
         "WESTERN EUROPE                     "
        ],
        [
         "13",
         "Azerbaijan ",
         "C.W. OF IND. STATES "
        ],
        [
         "14",
         "Bahamas, The ",
         "LATIN AMER. & CARIB    "
        ],
        [
         "15",
         "Bahrain ",
         "NEAR EAST                          "
        ],
        [
         "16",
         "Bangladesh ",
         "ASIA (EX. NEAR EAST)         "
        ],
        [
         "17",
         "Barbados ",
         "LATIN AMER. & CARIB    "
        ],
        [
         "18",
         "Belarus ",
         "C.W. OF IND. STATES "
        ],
        [
         "19",
         "Belgium ",
         "WESTERN EUROPE                     "
        ],
        [
         "20",
         "Belize ",
         "LATIN AMER. & CARIB    "
        ],
        [
         "21",
         "Benin ",
         "SUB-SAHARAN AFRICA                 "
        ],
        [
         "22",
         "Bermuda ",
         "NORTHERN AMERICA                   "
        ],
        [
         "23",
         "Bhutan ",
         "ASIA (EX. NEAR EAST)         "
        ],
        [
         "24",
         "Bolivia ",
         "LATIN AMER. & CARIB    "
        ],
        [
         "25",
         "Bosnia & Herzegovina ",
         "EASTERN EUROPE                     "
        ],
        [
         "26",
         "Botswana ",
         "SUB-SAHARAN AFRICA                 "
        ],
        [
         "27",
         "Brazil ",
         "LATIN AMER. & CARIB    "
        ],
        [
         "28",
         "British Virgin Is. ",
         "LATIN AMER. & CARIB    "
        ],
        [
         "29",
         "Brunei ",
         "ASIA (EX. NEAR EAST)         "
        ],
        [
         "30",
         "Bulgaria ",
         "EASTERN EUROPE                     "
        ],
        [
         "31",
         "Burkina Faso ",
         "SUB-SAHARAN AFRICA                 "
        ],
        [
         "32",
         "Burma ",
         "ASIA (EX. NEAR EAST)         "
        ],
        [
         "33",
         "Burundi ",
         "SUB-SAHARAN AFRICA                 "
        ],
        [
         "34",
         "Cambodia ",
         "ASIA (EX. NEAR EAST)         "
        ],
        [
         "35",
         "Cameroon ",
         "SUB-SAHARAN AFRICA                 "
        ],
        [
         "36",
         "Canada ",
         "NORTHERN AMERICA                   "
        ],
        [
         "37",
         "Cape Verde ",
         "SUB-SAHARAN AFRICA                 "
        ],
        [
         "38",
         "Cayman Islands ",
         "LATIN AMER. & CARIB    "
        ],
        [
         "39",
         "Central African Rep. ",
         "SUB-SAHARAN AFRICA                 "
        ],
        [
         "40",
         "Chad ",
         "SUB-SAHARAN AFRICA                 "
        ],
        [
         "41",
         "Chile ",
         "LATIN AMER. & CARIB    "
        ],
        [
         "42",
         "China ",
         "ASIA (EX. NEAR EAST)         "
        ],
        [
         "43",
         "Colombia ",
         "LATIN AMER. & CARIB    "
        ],
        [
         "44",
         "Comoros ",
         "SUB-SAHARAN AFRICA                 "
        ],
        [
         "45",
         "Congo, Dem. Rep. ",
         "SUB-SAHARAN AFRICA                 "
        ],
        [
         "46",
         "Congo, Repub. of the ",
         "SUB-SAHARAN AFRICA                 "
        ],
        [
         "47",
         "Cook Islands ",
         "OCEANIA                            "
        ],
        [
         "48",
         "Costa Rica ",
         "LATIN AMER. & CARIB    "
        ],
        [
         "49",
         "Cote d'Ivoire ",
         "SUB-SAHARAN AFRICA                 "
        ]
       ],
       "shape": {
        "columns": 2,
        "rows": 227
       }
      },
      "text/html": [
       "<div>\n",
       "<style scoped>\n",
       "    .dataframe tbody tr th:only-of-type {\n",
       "        vertical-align: middle;\n",
       "    }\n",
       "\n",
       "    .dataframe tbody tr th {\n",
       "        vertical-align: top;\n",
       "    }\n",
       "\n",
       "    .dataframe thead th {\n",
       "        text-align: right;\n",
       "    }\n",
       "</style>\n",
       "<table border=\"1\" class=\"dataframe\">\n",
       "  <thead>\n",
       "    <tr style=\"text-align: right;\">\n",
       "      <th></th>\n",
       "      <th>Country</th>\n",
       "      <th>Region</th>\n",
       "    </tr>\n",
       "  </thead>\n",
       "  <tbody>\n",
       "    <tr>\n",
       "      <th>0</th>\n",
       "      <td>Afghanistan</td>\n",
       "      <td>ASIA (EX. NEAR EAST)</td>\n",
       "    </tr>\n",
       "    <tr>\n",
       "      <th>1</th>\n",
       "      <td>Albania</td>\n",
       "      <td>EASTERN EUROPE</td>\n",
       "    </tr>\n",
       "    <tr>\n",
       "      <th>2</th>\n",
       "      <td>Algeria</td>\n",
       "      <td>NORTHERN AFRICA</td>\n",
       "    </tr>\n",
       "    <tr>\n",
       "      <th>3</th>\n",
       "      <td>American Samoa</td>\n",
       "      <td>OCEANIA</td>\n",
       "    </tr>\n",
       "    <tr>\n",
       "      <th>4</th>\n",
       "      <td>Andorra</td>\n",
       "      <td>WESTERN EUROPE</td>\n",
       "    </tr>\n",
       "    <tr>\n",
       "      <th>...</th>\n",
       "      <td>...</td>\n",
       "      <td>...</td>\n",
       "    </tr>\n",
       "    <tr>\n",
       "      <th>222</th>\n",
       "      <td>West Bank</td>\n",
       "      <td>NEAR EAST</td>\n",
       "    </tr>\n",
       "    <tr>\n",
       "      <th>223</th>\n",
       "      <td>Western Sahara</td>\n",
       "      <td>NORTHERN AFRICA</td>\n",
       "    </tr>\n",
       "    <tr>\n",
       "      <th>224</th>\n",
       "      <td>Yemen</td>\n",
       "      <td>NEAR EAST</td>\n",
       "    </tr>\n",
       "    <tr>\n",
       "      <th>225</th>\n",
       "      <td>Zambia</td>\n",
       "      <td>SUB-SAHARAN AFRICA</td>\n",
       "    </tr>\n",
       "    <tr>\n",
       "      <th>226</th>\n",
       "      <td>Zimbabwe</td>\n",
       "      <td>SUB-SAHARAN AFRICA</td>\n",
       "    </tr>\n",
       "  </tbody>\n",
       "</table>\n",
       "<p>227 rows × 2 columns</p>\n",
       "</div>"
      ],
      "text/plain": [
       "             Country                               Region\n",
       "0       Afghanistan         ASIA (EX. NEAR EAST)         \n",
       "1           Albania   EASTERN EUROPE                     \n",
       "2           Algeria   NORTHERN AFRICA                    \n",
       "3    American Samoa   OCEANIA                            \n",
       "4           Andorra   WESTERN EUROPE                     \n",
       "..               ...                                  ...\n",
       "222       West Bank   NEAR EAST                          \n",
       "223  Western Sahara   NORTHERN AFRICA                    \n",
       "224           Yemen   NEAR EAST                          \n",
       "225          Zambia   SUB-SAHARAN AFRICA                 \n",
       "226        Zimbabwe   SUB-SAHARAN AFRICA                 \n",
       "\n",
       "[227 rows x 2 columns]"
      ]
     },
     "execution_count": 10,
     "metadata": {},
     "output_type": "execute_result"
    }
   ],
   "source": [
    "#read_txt to pull txt files\n",
    "##read_cvs will still pull txt files, but may not import correctly\n",
    "#to fix the issues using cvs at the end of your file path add sep = '\\t'\n",
    "\n",
    "##df = pd.read_csv(r\"C:\\Users\\tm96\\Documents\\Projects\\Python_Stuff\\Mod_2\\Week_1\\Data_Sets\\countries of the world.txt\", sep = '\\t')\n",
    "##df\n",
    "\n",
    "df = pd.read_table(r\"C:\\Users\\tm96\\Documents\\Projects\\Python_Stuff\\Mod_2\\Week_1\\Data_Sets\\countries of the world.txt\")\n",
    "df\n",
    "\n"
   ]
  },
  {
   "cell_type": "code",
   "execution_count": 11,
   "id": "cb39ce9c",
   "metadata": {},
   "outputs": [
    {
     "data": {
      "application/vnd.microsoft.datawrangler.viewer.v0+json": {
       "columns": [
        {
         "name": "index",
         "rawType": "int64",
         "type": "integer"
        },
        {
         "name": "12 Strong",
         "rawType": "object",
         "type": "unknown"
        },
        {
         "name": "A Fantastic Woman (Una Mujer Fantástica)",
         "rawType": "object",
         "type": "unknown"
        },
        {
         "name": "All The Money In The World",
         "rawType": "object",
         "type": "unknown"
        },
        {
         "name": "Bilal: A New Breed Of Hero",
         "rawType": "object",
         "type": "unknown"
        },
        {
         "name": "Call Me By Your Name",
         "rawType": "object",
         "type": "unknown"
        },
        {
         "name": "Darkest Hour",
         "rawType": "object",
         "type": "unknown"
        },
        {
         "name": "Den Of Thieves",
         "rawType": "object",
         "type": "unknown"
        },
        {
         "name": "Ferdinand",
         "rawType": "object",
         "type": "unknown"
        },
        {
         "name": "Fifty Shades Freed",
         "rawType": "object",
         "type": "unknown"
        },
        {
         "name": "Film Stars Don'T Die In Liverpool",
         "rawType": "object",
         "type": "unknown"
        },
        {
         "name": "Forever My Girl",
         "rawType": "object",
         "type": "unknown"
        },
        {
         "name": "Golden Exits",
         "rawType": "object",
         "type": "unknown"
        },
        {
         "name": "Hostiles",
         "rawType": "object",
         "type": "unknown"
        },
        {
         "name": "I, Tonya",
         "rawType": "object",
         "type": "unknown"
        },
        {
         "name": "Insidious: The Last Key",
         "rawType": "object",
         "type": "unknown"
        },
        {
         "name": "Jumanji: Welcome To The Jungle",
         "rawType": "object",
         "type": "unknown"
        },
        {
         "name": "Mary And The Witch'S Flower",
         "rawType": "object",
         "type": "unknown"
        },
        {
         "name": "Maze Runner: The Death Cure",
         "rawType": "object",
         "type": "unknown"
        },
        {
         "name": "Molly'S Game",
         "rawType": "object",
         "type": "unknown"
        },
        {
         "name": "Paddington 2",
         "rawType": "object",
         "type": "unknown"
        },
        {
         "name": "Padmaavat",
         "rawType": "object",
         "type": "unknown"
        },
        {
         "name": "Permission",
         "rawType": "object",
         "type": "unknown"
        },
        {
         "name": "Peter Rabbit",
         "rawType": "object",
         "type": "unknown"
        },
        {
         "name": "Phantom Thread",
         "rawType": "object",
         "type": "unknown"
        },
        {
         "name": "Pitch Perfect 3",
         "rawType": "object",
         "type": "unknown"
        },
        {
         "name": "Proud Mary",
         "rawType": "object",
         "type": "unknown"
        },
        {
         "name": "Sanpo Suru Shinryakusha",
         "rawType": "object",
         "type": "unknown"
        },
        {
         "name": "Star Wars: The Last Jedi",
         "rawType": "object",
         "type": "unknown"
        },
        {
         "name": "The 15:17 To Paris",
         "rawType": "object",
         "type": "unknown"
        },
        {
         "name": "The Commuter",
         "rawType": "object",
         "type": "unknown"
        },
        {
         "name": "The Disaster Artist",
         "rawType": "object",
         "type": "unknown"
        },
        {
         "name": "The Greatest Showman",
         "rawType": "object",
         "type": "unknown"
        },
        {
         "name": "The Insult (L'Insulte)",
         "rawType": "object",
         "type": "unknown"
        },
        {
         "name": "The Post",
         "rawType": "object",
         "type": "unknown"
        },
        {
         "name": "The Shape Of Water",
         "rawType": "object",
         "type": "unknown"
        },
        {
         "name": "Three Billboards Outside Ebbing, Missouri",
         "rawType": "object",
         "type": "unknown"
        },
        {
         "name": "Till The End Of The World",
         "rawType": "object",
         "type": "unknown"
        },
        {
         "name": "Winchester",
         "rawType": "object",
         "type": "unknown"
        }
       ],
       "ref": "12e8cd2f-1011-42a1-9e9d-79ddfe6d7dc8",
       "rows": [
        [
         "0",
         "{'Genre': 'Action', 'Gross': '$453,173', 'IMDB Metascore': '54', 'Popcorn Score': 72, 'Rating': 'R', 'Tomato Score': 54}",
         "{'popcornscore': 83, 'rating': 'R', 'tomatoscore': 90}",
         "{'popcornscore': 71, 'rating': 'R', 'tomatoscore': 77}",
         "{'popcornscore': 91, 'rating': 'PG13', 'tomatoscore': 57}",
         "{'popcornscore': 87, 'rating': 'R', 'tomatoscore': 96}",
         "{'popcornscore': 84, 'rating': 'PG13', 'tomatoscore': 86}",
         "{'Genre': 'Action', 'Gross': '$491,898', 'IMDB Metascore': '49', 'Popcorn Score': 69, 'Rating': 'R', 'Tomato Score': 40}",
         "{'popcornscore': 49, 'rating': 'PG', 'tomatoscore': 71}",
         "{'Genre': 'Drama', 'Gross': 'unknown', 'IMDB Metascore': '34', 'Popcorn Score': 'unknown', 'Rating': 'unrated', 'Tomato Score': 'unkown'}",
         "{'popcornscore': 69, 'rating': 'R', 'tomatoscore': 78}",
         "{'popcornscore': 91, 'rating': 'PG', 'tomatoscore': 21}",
         "{'Genre': 'Drama', 'Gross': 'unknown', 'IMDB Metascore': '72', 'Popcorn Score': 'unknown', 'Rating': 'unrated', 'Tomato Score': 'unkown'}",
         "{'Genre': 'Adventure', 'Gross': '$548,886', 'IMDB Metascore': '65', 'Popcorn Score': 71, 'Rating': 'R', 'Tomato Score': 72}",
         "{'popcornscore': 89, 'rating': 'R', 'tomatoscore': 90}",
         "{'popcornscore': 51, 'rating': 'PG13', 'tomatoscore': 32}",
         "{'Genre': 'Action', 'Gross': '$760,867', 'IMDB Metascore': '58', 'Popcorn Score': 89, 'Rating': 'PG13', 'Tomato Score': 76}",
         "{'popcornscore': 78, 'rating': 'PG', 'tomatoscore': 84}",
         "{'Genre': 'Action', 'Gross': '$720,463', 'IMDB Metascore': '51', 'Popcorn Score': 71, 'Rating': 'PG13', 'Tomato Score': 43}",
         "{'popcornscore': 85, 'rating': 'R', 'tomatoscore': 82}",
         "{'Genre': 'Animation', 'Gross': '$184,414', 'IMDB Metascore': '88', 'Popcorn Score': 89, 'Rating': 'PG', 'Tomato Score': 100}",
         "{'popcornscore': 62, 'rating': 'NR', 'tomatoscore': 74}",
         "{'Genre': 'Comedy', 'Gross': 'unknown', 'IMDB Metascore': '53', 'Popcorn Score': 'unknown', 'Rating': 'unrated', 'Tomato Score': 'unkown'}",
         "{'Genre': 'Animation', 'Gross': 'unknown', 'IMDB Metascore': '56', 'Popcorn Score': 'unknown', 'Rating': 'unrated', 'Tomato Score': 'unkown'}",
         "{'popcornscore': 68, 'rating': 'R', 'tomatoscore': 91}",
         "{'popcornscore': 52, 'rating': 'PG13', 'tomatoscore': 31}",
         "{'popcornscore': 56, 'rating': 'R', 'tomatoscore': 26}",
         "{'Genre': 'Drama', 'Gross': 'unknown', 'IMDB Metascore': '65', 'Popcorn Score': 'unknown', 'Rating': 'unrated', 'Tomato Score': 'unkown'}",
         "{'popcornscore': 48, 'rating': 'PG13', 'tomatoscore': 91}",
         "{'Genre': 'Drama', 'Gross': 'unknown', 'IMDB Metascore': '52', 'Popcorn Score': 'unknown', 'Rating': 'unrated', 'Tomato Score': 'unkown'}",
         "{'popcornscore': 48, 'rating': 'PG13', 'tomatoscore': 58}",
         "{'popcornscore': 89, 'rating': 'R', 'tomatoscore': 91}",
         "{'Genre': 'Biography', 'Gross': '$627,248', 'IMDB Metascore': '48', 'Popcorn Score': 90, 'Rating': 'PG', 'Tomato Score': 55}",
         "{'popcornscore': 86, 'rating': 'R', 'tomatoscore': 89}",
         "{'Genre': 'Biography', 'Gross': '$463,228', 'IMDB Metascore': '83', 'Popcorn Score': 73, 'Rating': 'PG13', 'Tomato Score': 88}",
         "{'Genre': 'Adventure', 'Gross': '$448,287', 'IMDB Metascore': '86', 'Popcorn Score': 78, 'Rating': 'R', 'Tomato Score': 92}",
         "{'popcornscore': 87, 'rating': 'R', 'tomatoscore': 93}",
         "{'popcornscore': -1, 'rating': 'NR', 'tomatoscore': None}",
         "{'Genre': 'Biography', 'Gross': '$696,786', 'IMDB Metascore': '28', 'Popcorn Score': 40, 'Rating': 'PG13', 'Tomato Score': 12}"
        ]
       ],
       "shape": {
        "columns": 38,
        "rows": 1
       }
      },
      "text/html": [
       "<div>\n",
       "<style scoped>\n",
       "    .dataframe tbody tr th:only-of-type {\n",
       "        vertical-align: middle;\n",
       "    }\n",
       "\n",
       "    .dataframe tbody tr th {\n",
       "        vertical-align: top;\n",
       "    }\n",
       "\n",
       "    .dataframe thead th {\n",
       "        text-align: right;\n",
       "    }\n",
       "</style>\n",
       "<table border=\"1\" class=\"dataframe\">\n",
       "  <thead>\n",
       "    <tr style=\"text-align: right;\">\n",
       "      <th></th>\n",
       "      <th>12 Strong</th>\n",
       "      <th>A Fantastic Woman (Una Mujer Fantástica)</th>\n",
       "      <th>All The Money In The World</th>\n",
       "      <th>Bilal: A New Breed Of Hero</th>\n",
       "      <th>Call Me By Your Name</th>\n",
       "      <th>Darkest Hour</th>\n",
       "      <th>Den Of Thieves</th>\n",
       "      <th>Ferdinand</th>\n",
       "      <th>Fifty Shades Freed</th>\n",
       "      <th>Film Stars Don'T Die In Liverpool</th>\n",
       "      <th>...</th>\n",
       "      <th>The 15:17 To Paris</th>\n",
       "      <th>The Commuter</th>\n",
       "      <th>The Disaster Artist</th>\n",
       "      <th>The Greatest Showman</th>\n",
       "      <th>The Insult (L'Insulte)</th>\n",
       "      <th>The Post</th>\n",
       "      <th>The Shape Of Water</th>\n",
       "      <th>Three Billboards Outside Ebbing, Missouri</th>\n",
       "      <th>Till The End Of The World</th>\n",
       "      <th>Winchester</th>\n",
       "    </tr>\n",
       "  </thead>\n",
       "  <tbody>\n",
       "    <tr>\n",
       "      <th>0</th>\n",
       "      <td>{'Genre': 'Action', 'Gross': '$453,173', 'IMDB...</td>\n",
       "      <td>{'popcornscore': 83, 'rating': 'R', 'tomatosco...</td>\n",
       "      <td>{'popcornscore': 71, 'rating': 'R', 'tomatosco...</td>\n",
       "      <td>{'popcornscore': 91, 'rating': 'PG13', 'tomato...</td>\n",
       "      <td>{'popcornscore': 87, 'rating': 'R', 'tomatosco...</td>\n",
       "      <td>{'popcornscore': 84, 'rating': 'PG13', 'tomato...</td>\n",
       "      <td>{'Genre': 'Action', 'Gross': '$491,898', 'IMDB...</td>\n",
       "      <td>{'popcornscore': 49, 'rating': 'PG', 'tomatosc...</td>\n",
       "      <td>{'Genre': 'Drama', 'Gross': 'unknown', 'IMDB M...</td>\n",
       "      <td>{'popcornscore': 69, 'rating': 'R', 'tomatosco...</td>\n",
       "      <td>...</td>\n",
       "      <td>{'Genre': 'Drama', 'Gross': 'unknown', 'IMDB M...</td>\n",
       "      <td>{'popcornscore': 48, 'rating': 'PG13', 'tomato...</td>\n",
       "      <td>{'popcornscore': 89, 'rating': 'R', 'tomatosco...</td>\n",
       "      <td>{'Genre': 'Biography', 'Gross': '$627,248', 'I...</td>\n",
       "      <td>{'popcornscore': 86, 'rating': 'R', 'tomatosco...</td>\n",
       "      <td>{'Genre': 'Biography', 'Gross': '$463,228', 'I...</td>\n",
       "      <td>{'Genre': 'Adventure', 'Gross': '$448,287', 'I...</td>\n",
       "      <td>{'popcornscore': 87, 'rating': 'R', 'tomatosco...</td>\n",
       "      <td>{'popcornscore': -1, 'rating': 'NR', 'tomatosc...</td>\n",
       "      <td>{'Genre': 'Biography', 'Gross': '$696,786', 'I...</td>\n",
       "    </tr>\n",
       "  </tbody>\n",
       "</table>\n",
       "<p>1 rows × 38 columns</p>\n",
       "</div>"
      ],
      "text/plain": [
       "                                           12 Strong  \\\n",
       "0  {'Genre': 'Action', 'Gross': '$453,173', 'IMDB...   \n",
       "\n",
       "            A Fantastic Woman (Una Mujer Fantástica)  \\\n",
       "0  {'popcornscore': 83, 'rating': 'R', 'tomatosco...   \n",
       "\n",
       "                          All The Money In The World  \\\n",
       "0  {'popcornscore': 71, 'rating': 'R', 'tomatosco...   \n",
       "\n",
       "                          Bilal: A New Breed Of Hero  \\\n",
       "0  {'popcornscore': 91, 'rating': 'PG13', 'tomato...   \n",
       "\n",
       "                                Call Me By Your Name  \\\n",
       "0  {'popcornscore': 87, 'rating': 'R', 'tomatosco...   \n",
       "\n",
       "                                        Darkest Hour  \\\n",
       "0  {'popcornscore': 84, 'rating': 'PG13', 'tomato...   \n",
       "\n",
       "                                      Den Of Thieves  \\\n",
       "0  {'Genre': 'Action', 'Gross': '$491,898', 'IMDB...   \n",
       "\n",
       "                                           Ferdinand  \\\n",
       "0  {'popcornscore': 49, 'rating': 'PG', 'tomatosc...   \n",
       "\n",
       "                                  Fifty Shades Freed  \\\n",
       "0  {'Genre': 'Drama', 'Gross': 'unknown', 'IMDB M...   \n",
       "\n",
       "                   Film Stars Don'T Die In Liverpool  ...  \\\n",
       "0  {'popcornscore': 69, 'rating': 'R', 'tomatosco...  ...   \n",
       "\n",
       "                                  The 15:17 To Paris  \\\n",
       "0  {'Genre': 'Drama', 'Gross': 'unknown', 'IMDB M...   \n",
       "\n",
       "                                        The Commuter  \\\n",
       "0  {'popcornscore': 48, 'rating': 'PG13', 'tomato...   \n",
       "\n",
       "                                 The Disaster Artist  \\\n",
       "0  {'popcornscore': 89, 'rating': 'R', 'tomatosco...   \n",
       "\n",
       "                                The Greatest Showman  \\\n",
       "0  {'Genre': 'Biography', 'Gross': '$627,248', 'I...   \n",
       "\n",
       "                              The Insult (L'Insulte)  \\\n",
       "0  {'popcornscore': 86, 'rating': 'R', 'tomatosco...   \n",
       "\n",
       "                                            The Post  \\\n",
       "0  {'Genre': 'Biography', 'Gross': '$463,228', 'I...   \n",
       "\n",
       "                                  The Shape Of Water  \\\n",
       "0  {'Genre': 'Adventure', 'Gross': '$448,287', 'I...   \n",
       "\n",
       "           Three Billboards Outside Ebbing, Missouri  \\\n",
       "0  {'popcornscore': 87, 'rating': 'R', 'tomatosco...   \n",
       "\n",
       "                           Till The End Of The World  \\\n",
       "0  {'popcornscore': -1, 'rating': 'NR', 'tomatosc...   \n",
       "\n",
       "                                          Winchester  \n",
       "0  {'Genre': 'Biography', 'Gross': '$696,786', 'I...  \n",
       "\n",
       "[1 rows x 38 columns]"
      ]
     },
     "execution_count": 11,
     "metadata": {},
     "output_type": "execute_result"
    }
   ],
   "source": [
    "df = pd.read_json(r\"C:\\Users\\tm96\\Documents\\Projects\\Python_Stuff\\Mod_2\\Week_1\\Data_Sets\\json_sample.json\")\n",
    "df"
   ]
  },
  {
   "cell_type": "code",
   "execution_count": null,
   "id": "1fa86aee",
   "metadata": {},
   "outputs": [
    {
     "data": {
      "application/vnd.microsoft.datawrangler.viewer.v0+json": {
       "columns": [
        {
         "name": "index",
         "rawType": "int64",
         "type": "integer"
        },
        {
         "name": "Rank",
         "rawType": "int64",
         "type": "integer"
        },
        {
         "name": "CCA3",
         "rawType": "object",
         "type": "string"
        },
        {
         "name": "Country",
         "rawType": "object",
         "type": "string"
        },
        {
         "name": "Capital",
         "rawType": "object",
         "type": "string"
        },
        {
         "name": "Continent",
         "rawType": "object",
         "type": "string"
        },
        {
         "name": "2022 Population",
         "rawType": "int64",
         "type": "integer"
        },
        {
         "name": "2020 Population",
         "rawType": "int64",
         "type": "integer"
        },
        {
         "name": "2015 Population",
         "rawType": "int64",
         "type": "integer"
        },
        {
         "name": "2010 Population",
         "rawType": "int64",
         "type": "integer"
        },
        {
         "name": "2000 Population",
         "rawType": "int64",
         "type": "integer"
        },
        {
         "name": "1990 Population",
         "rawType": "int64",
         "type": "integer"
        },
        {
         "name": "1980 Population",
         "rawType": "int64",
         "type": "integer"
        },
        {
         "name": "1970 Population",
         "rawType": "int64",
         "type": "integer"
        },
        {
         "name": "Area (kmÂ²)",
         "rawType": "int64",
         "type": "integer"
        },
        {
         "name": "Density (per kmÂ²)",
         "rawType": "float64",
         "type": "float"
        },
        {
         "name": "Growth Rate",
         "rawType": "float64",
         "type": "float"
        },
        {
         "name": "World Population Percentage",
         "rawType": "float64",
         "type": "float"
        }
       ],
       "ref": "294afc6e-563b-40cf-a1fb-30cd454bd62e",
       "rows": [
        [
         "0",
         "36",
         "AFG",
         "Afghanistan",
         "Kabul",
         "Asia",
         "41128771",
         "38972230",
         "33753499",
         "28189672",
         "19542982",
         "10694796",
         "12486631",
         "10752971",
         "652230",
         "63.0587",
         "1.0257",
         "0.52"
        ],
        [
         "1",
         "138",
         "ALB",
         "Albania",
         "Tirana",
         "Europe",
         "2842321",
         "2866849",
         "2882481",
         "2913399",
         "3182021",
         "3295066",
         "2941651",
         "2324731",
         "28748",
         "98.8702",
         "0.9957",
         "0.04"
        ],
        [
         "2",
         "34",
         "DZA",
         "Algeria",
         "Algiers",
         "Africa",
         "44903225",
         "43451666",
         "39543154",
         "35856344",
         "30774621",
         "25518074",
         "18739378",
         "13795915",
         "2381741",
         "18.8531",
         "1.0164",
         "0.56"
        ],
        [
         "3",
         "213",
         "ASM",
         "American Samoa",
         "Pago Pago",
         "Oceania",
         "44273",
         "46189",
         "51368",
         "54849",
         "58230",
         "47818",
         "32886",
         "27075",
         "199",
         "222.4774",
         "0.9831",
         "0.0"
        ],
        [
         "4",
         "203",
         "AND",
         "Andorra",
         "Andorra la Vella",
         "Europe",
         "79824",
         "77700",
         "71746",
         "71519",
         "66097",
         "53569",
         "35611",
         "19860",
         "468",
         "170.5641",
         "1.01",
         "0.0"
        ],
        [
         "5",
         "42",
         "AGO",
         "Angola",
         "Luanda",
         "Africa",
         "35588987",
         "33428485",
         "28127721",
         "23364185",
         "16394062",
         "11828638",
         "8330047",
         "6029700",
         "1246700",
         "28.5466",
         "1.0315",
         "0.45"
        ],
        [
         "6",
         "224",
         "AIA",
         "Anguilla",
         "The Valley",
         "North America",
         "15857",
         "15585",
         "14525",
         "13172",
         "11047",
         "8316",
         "6560",
         "6283",
         "91",
         "174.2527",
         "1.0066",
         "0.0"
        ],
        [
         "7",
         "201",
         "ATG",
         "Antigua and Barbuda",
         "Saint Johnâ€™s",
         "North America",
         "93763",
         "92664",
         "89941",
         "85695",
         "75055",
         "63328",
         "64888",
         "64516",
         "442",
         "212.1335",
         "1.0058",
         "0.0"
        ],
        [
         "8",
         "33",
         "ARG",
         "Argentina",
         "Buenos Aires",
         "South America",
         "45510318",
         "45036032",
         "43257065",
         "41100123",
         "37070774",
         "32637657",
         "28024803",
         "23842803",
         "2780400",
         "16.3683",
         "1.0052",
         "0.57"
        ],
        [
         "9",
         "140",
         "ARM",
         "Armenia",
         "Yerevan",
         "Asia",
         "2780469",
         "2805608",
         "2878595",
         "2946293",
         "3168523",
         "3556539",
         "3135123",
         "2534377",
         "29743",
         "93.4831",
         "0.9962",
         "0.03"
        ],
        [
         "10",
         "198",
         "ABW",
         "Aruba",
         "Oranjestad",
         "North America",
         "106445",
         "106585",
         "104257",
         "100341",
         "89101",
         "65712",
         "62267",
         "59106",
         "180",
         "591.3611",
         "0.9991",
         "0.0"
        ],
        [
         "11",
         "55",
         "AUS",
         "Australia",
         "Canberra",
         "Oceania",
         "26177413",
         "25670051",
         "23820236",
         "22019168",
         "19017963",
         "17048003",
         "14706322",
         "12595034",
         "7692024",
         "3.4032",
         "1.0099",
         "0.33"
        ],
        [
         "12",
         "99",
         "AUT",
         "Austria",
         "Vienna",
         "Europe",
         "8939617",
         "8907777",
         "8642421",
         "8362829",
         "8010428",
         "7678729",
         "7547561",
         "7465301",
         "83871",
         "106.5877",
         "1.002",
         "0.11"
        ],
        [
         "13",
         "91",
         "AZE",
         "Azerbaijan",
         "Baku",
         "Asia",
         "10358074",
         "10284951",
         "9863480",
         "9237202",
         "8190337",
         "7427836",
         "6383060",
         "5425317",
         "86600",
         "119.6082",
         "1.0044",
         "0.13"
        ],
        [
         "14",
         "176",
         "BHS",
         "Bahamas",
         "Nassau",
         "North America",
         "409984",
         "406471",
         "392697",
         "373272",
         "325014",
         "270679",
         "223752",
         "179129",
         "13943",
         "29.4043",
         "1.0051",
         "0.01"
        ],
        [
         "15",
         "154",
         "BHR",
         "Bahrain",
         "Manama",
         "Asia",
         "1472233",
         "1477469",
         "1362142",
         "1213645",
         "711442",
         "517418",
         "362595",
         "222555",
         "765",
         "1924.4876",
         "1.0061",
         "0.02"
        ],
        [
         "16",
         "8",
         "BGD",
         "Bangladesh",
         "Dhaka",
         "Asia",
         "171186372",
         "167420951",
         "157830000",
         "148391139",
         "129193327",
         "107147651",
         "83929765",
         "67541860",
         "147570",
         "1160.035",
         "1.0108",
         "2.15"
        ],
        [
         "17",
         "186",
         "BRB",
         "Barbados",
         "Bridgetown",
         "North America",
         "281635",
         "280693",
         "278083",
         "274711",
         "264657",
         "258868",
         "253575",
         "241397",
         "430",
         "654.9651",
         "1.0015",
         "0.0"
        ],
        [
         "18",
         "96",
         "BLR",
         "Belarus",
         "Minsk",
         "Europe",
         "9534954",
         "9633740",
         "9700609",
         "9731427",
         "10256483",
         "10428525",
         "9817257",
         "9170786",
         "207600",
         "45.9295",
         "0.9955",
         "0.12"
        ],
        [
         "19",
         "81",
         "BEL",
         "Belgium",
         "Brussels",
         "Europe",
         "11655930",
         "11561717",
         "11248303",
         "10877947",
         "10264343",
         "9959560",
         "9828986",
         "9629376",
         "30528",
         "381.8111",
         "1.0038",
         "0.15"
        ],
        [
         "20",
         "177",
         "BLZ",
         "Belize",
         "Belmopan",
         "North America",
         "405272",
         "394921",
         "359871",
         "322106",
         "240406",
         "182589",
         "145133",
         "120905",
         "22966",
         "17.6466",
         "1.0131",
         "0.01"
        ],
        [
         "21",
         "77",
         "BEN",
         "Benin",
         "Porto-Novo",
         "Africa",
         "13352864",
         "12643123",
         "10932783",
         "9445710",
         "6998023",
         "5133419",
         "3833939",
         "3023443",
         "112622",
         "118.5635",
         "1.0274",
         "0.17"
        ],
        [
         "22",
         "206",
         "BMU",
         "Bermuda",
         "Hamilton",
         "North America",
         "64184",
         "64031",
         "63144",
         "63447",
         "61371",
         "57470",
         "53565",
         "52019",
         "54",
         "1188.5926",
         "1.0",
         "0.0"
        ],
        [
         "23",
         "165",
         "BTN",
         "Bhutan",
         "Thimphu",
         "Asia",
         "782455",
         "772506",
         "743274",
         "705516",
         "587207",
         "558442",
         "415257",
         "298894",
         "38394",
         "20.3796",
         "1.0064",
         "0.01"
        ],
        [
         "24",
         "80",
         "BOL",
         "Bolivia",
         "Sucre",
         "South America",
         "12224110",
         "11936162",
         "11090085",
         "10223270",
         "8592656",
         "7096194",
         "5736088",
         "4585693",
         "1098581",
         "11.1272",
         "1.012",
         "0.15"
        ],
        [
         "25",
         "137",
         "BIH",
         "Bosnia and Herzegovina",
         "Sarajevo",
         "Europe",
         "3233526",
         "3318407",
         "3524324",
         "3811088",
         "4179350",
         "4494310",
         "4199820",
         "3815561",
         "51209",
         "63.1437",
         "0.9886",
         "0.04"
        ],
        [
         "26",
         "144",
         "BWA",
         "Botswana",
         "Gaborone",
         "Africa",
         "2630296",
         "2546402",
         "2305171",
         "2091664",
         "1726985",
         "1341474",
         "938578",
         "592244",
         "582000",
         "4.5194",
         "1.0162",
         "0.03"
        ],
        [
         "27",
         "7",
         "BRA",
         "Brazil",
         "Brasilia",
         "South America",
         "215313498",
         "213196304",
         "205188205",
         "196353492",
         "175873720",
         "150706446",
         "122288383",
         "96369875",
         "8515767",
         "25.2841",
         "1.0046",
         "2.7"
        ],
        [
         "28",
         "221",
         "VGB",
         "British Virgin Islands",
         "Road Town",
         "North America",
         "31305",
         "30910",
         "29366",
         "27556",
         "20104",
         "15617",
         "11109",
         "9581",
         "151",
         "207.3179",
         "1.0059",
         "0.0"
        ],
        [
         "29",
         "175",
         "BRN",
         "Brunei",
         "Bandar Seri Begawan",
         "Asia",
         "449002",
         "441725",
         "421437",
         "396053",
         "333926",
         "261928",
         "187921",
         "133343",
         "5765",
         "77.8841",
         "1.0081",
         "0.01"
        ],
        [
         "30",
         "108",
         "BGR",
         "Bulgaria",
         "Sofia",
         "Europe",
         "6781953",
         "6979175",
         "7309253",
         "7592273",
         "8097691",
         "8767778",
         "8980606",
         "8582950",
         "110879",
         "61.1654",
         "0.9849",
         "0.09"
        ],
        [
         "31",
         "58",
         "BFA",
         "Burkina Faso",
         "Ouagadougou",
         "Africa",
         "22673762",
         "21522626",
         "18718019",
         "16116845",
         "11882888",
         "9131361",
         "6932967",
         "5611666",
         "272967",
         "83.0641",
         "1.0259",
         "0.28"
        ],
        [
         "32",
         "78",
         "BDI",
         "Burundi",
         "Bujumbura",
         "Africa",
         "12889576",
         "12220227",
         "10727148",
         "9126605",
         "6307659",
         "5483793",
         "4312834",
         "3497834",
         "27834",
         "463.0874",
         "1.027",
         "0.16"
        ],
        [
         "33",
         "73",
         "KHM",
         "Cambodia",
         "Phnom Penh",
         "Asia",
         "16767842",
         "16396860",
         "15417523",
         "14363532",
         "12118841",
         "8910808",
         "6198959",
         "6708525",
         "181035",
         "92.6221",
         "1.0108",
         "0.21"
        ],
        [
         "34",
         "53",
         "CMR",
         "Cameroon",
         "Yaounde",
         "Africa",
         "27914536",
         "26491087",
         "23012646",
         "19878036",
         "15091594",
         "11430520",
         "8519891",
         "6452787",
         "475442",
         "58.7128",
         "1.0263",
         "0.35"
        ],
        [
         "35",
         "39",
         "CAN",
         "Canada",
         "Ottawa",
         "North America",
         "38454327",
         "37888705",
         "35732126",
         "33963412",
         "30683313",
         "27657204",
         "24511510",
         "21434577",
         "9984670",
         "3.8513",
         "1.0078",
         "0.48"
        ],
        [
         "36",
         "171",
         "CPV",
         "Cape Verde",
         "Praia",
         "Africa",
         "593149",
         "582640",
         "552166",
         "521212",
         "458251",
         "364563",
         "317234",
         "287262",
         "4033",
         "147.0739",
         "1.0089",
         "0.01"
        ],
        [
         "37",
         "205",
         "CYM",
         "Cayman Islands",
         "George Town",
         "North America",
         "68706",
         "67311",
         "60911",
         "54074",
         "39658",
         "26027",
         "17100",
         "10533",
         "264",
         "260.25",
         "1.0084",
         "0.0"
        ],
        [
         "38",
         "117",
         "CAF",
         "Central African Republic",
         "Bangui",
         "Africa",
         "5579144",
         "5343020",
         "4819333",
         "4660067",
         "3759170",
         "2809221",
         "2415276",
         "2067356",
         "622984",
         "8.9555",
         "1.0224",
         "0.07"
        ],
        [
         "39",
         "69",
         "TCD",
         "Chad",
         "N'Djamena",
         "Africa",
         "17723315",
         "16644701",
         "14140274",
         "11894727",
         "8259137",
         "5827069",
         "4408230",
         "3667394",
         "1284000",
         "13.8032",
         "1.0316",
         "0.22"
        ],
        [
         "40",
         "65",
         "CHL",
         "Chile",
         "Santiago",
         "South America",
         "19603733",
         "19300315",
         "17870124",
         "17004162",
         "15351799",
         "13342868",
         "11469828",
         "9820481",
         "756102",
         "25.9274",
         "1.0057",
         "0.25"
        ],
        [
         "41",
         "1",
         "CHN",
         "China",
         "Beijing",
         "Asia",
         "1425887337",
         "1424929781",
         "1393715448",
         "1348191368",
         "1264099069",
         "1153704252",
         "982372466",
         "822534450",
         "9706961",
         "146.8933",
         "1.0",
         "17.88"
        ],
        [
         "42",
         "28",
         "COL",
         "Colombia",
         "Bogota",
         "South America",
         "51874024",
         "50930662",
         "47119728",
         "44816108",
         "39215135",
         "32601393",
         "26176195",
         "20905254",
         "1141748",
         "45.4339",
         "1.0069",
         "0.65"
        ],
        [
         "43",
         "163",
         "COM",
         "Comoros",
         "Moroni",
         "Africa",
         "836774",
         "806166",
         "730216",
         "656024",
         "536758",
         "431119",
         "328328",
         "242351",
         "1862",
         "449.3953",
         "1.0184",
         "0.01"
        ],
        [
         "44",
         "223",
         "COK",
         "Cook Islands",
         "Avarua",
         "Oceania",
         "17011",
         "17029",
         "17695",
         "17212",
         "15897",
         "17123",
         "17651",
         "20470",
         "236",
         "72.0805",
         "1.0005",
         "0.0"
        ],
        [
         "45",
         "124",
         "CRI",
         "Costa Rica",
         "San JosÃ©",
         "North America",
         "5180829",
         "5123105",
         "4895242",
         "4622252",
         "3979193",
         "3158253",
         "2414303",
         "1855697",
         "51100",
         "101.3861",
         "1.0052",
         "0.06"
        ],
        [
         "46",
         "130",
         "HRV",
         "Croatia",
         "Zagreb",
         "Europe",
         "4030358",
         "4096868",
         "4254815",
         "4368682",
         "4548434",
         "4873707",
         "4680144",
         "4492638",
         "56594",
         "71.2153",
         "0.9927",
         "0.05"
        ],
        [
         "47",
         "85",
         "CUB",
         "Cuba",
         "Havana",
         "North America",
         "11212191",
         "11300698",
         "11339894",
         "11290417",
         "11105791",
         "10626680",
         "9809107",
         "8869636",
         "109884",
         "102.0366",
         "0.9961",
         "0.14"
        ],
        [
         "48",
         "189",
         "CUW",
         "Curacao",
         "Willemstad",
         "North America",
         "191163",
         "189288",
         "169572",
         "159380",
         "141424",
         "155446",
         "156851",
         "150385",
         "444",
         "430.5473",
         "1.0043",
         "0.0"
        ],
        [
         "49",
         "158",
         "CYP",
         "Cyprus",
         "Nicosia",
         "Europe",
         "1251488",
         "1237537",
         "1187280",
         "1129686",
         "948237",
         "788500",
         "679327",
         "640804",
         "9251",
         "135.2814",
         "1.0059",
         "0.02"
        ]
       ],
       "shape": {
        "columns": 17,
        "rows": 234
       }
      },
      "text/html": [
       "<div>\n",
       "<style scoped>\n",
       "    .dataframe tbody tr th:only-of-type {\n",
       "        vertical-align: middle;\n",
       "    }\n",
       "\n",
       "    .dataframe tbody tr th {\n",
       "        vertical-align: top;\n",
       "    }\n",
       "\n",
       "    .dataframe thead th {\n",
       "        text-align: right;\n",
       "    }\n",
       "</style>\n",
       "<table border=\"1\" class=\"dataframe\">\n",
       "  <thead>\n",
       "    <tr style=\"text-align: right;\">\n",
       "      <th></th>\n",
       "      <th>Rank</th>\n",
       "      <th>CCA3</th>\n",
       "      <th>Country</th>\n",
       "      <th>Capital</th>\n",
       "      <th>Continent</th>\n",
       "      <th>2022 Population</th>\n",
       "      <th>2020 Population</th>\n",
       "      <th>2015 Population</th>\n",
       "      <th>2010 Population</th>\n",
       "      <th>2000 Population</th>\n",
       "      <th>1990 Population</th>\n",
       "      <th>1980 Population</th>\n",
       "      <th>1970 Population</th>\n",
       "      <th>Area (kmÂ²)</th>\n",
       "      <th>Density (per kmÂ²)</th>\n",
       "      <th>Growth Rate</th>\n",
       "      <th>World Population Percentage</th>\n",
       "    </tr>\n",
       "  </thead>\n",
       "  <tbody>\n",
       "    <tr>\n",
       "      <th>0</th>\n",
       "      <td>36</td>\n",
       "      <td>AFG</td>\n",
       "      <td>Afghanistan</td>\n",
       "      <td>Kabul</td>\n",
       "      <td>Asia</td>\n",
       "      <td>41128771</td>\n",
       "      <td>38972230</td>\n",
       "      <td>33753499</td>\n",
       "      <td>28189672</td>\n",
       "      <td>19542982</td>\n",
       "      <td>10694796</td>\n",
       "      <td>12486631</td>\n",
       "      <td>10752971</td>\n",
       "      <td>652230</td>\n",
       "      <td>63.0587</td>\n",
       "      <td>1.0257</td>\n",
       "      <td>0.52</td>\n",
       "    </tr>\n",
       "    <tr>\n",
       "      <th>1</th>\n",
       "      <td>138</td>\n",
       "      <td>ALB</td>\n",
       "      <td>Albania</td>\n",
       "      <td>Tirana</td>\n",
       "      <td>Europe</td>\n",
       "      <td>2842321</td>\n",
       "      <td>2866849</td>\n",
       "      <td>2882481</td>\n",
       "      <td>2913399</td>\n",
       "      <td>3182021</td>\n",
       "      <td>3295066</td>\n",
       "      <td>2941651</td>\n",
       "      <td>2324731</td>\n",
       "      <td>28748</td>\n",
       "      <td>98.8702</td>\n",
       "      <td>0.9957</td>\n",
       "      <td>0.04</td>\n",
       "    </tr>\n",
       "    <tr>\n",
       "      <th>2</th>\n",
       "      <td>34</td>\n",
       "      <td>DZA</td>\n",
       "      <td>Algeria</td>\n",
       "      <td>Algiers</td>\n",
       "      <td>Africa</td>\n",
       "      <td>44903225</td>\n",
       "      <td>43451666</td>\n",
       "      <td>39543154</td>\n",
       "      <td>35856344</td>\n",
       "      <td>30774621</td>\n",
       "      <td>25518074</td>\n",
       "      <td>18739378</td>\n",
       "      <td>13795915</td>\n",
       "      <td>2381741</td>\n",
       "      <td>18.8531</td>\n",
       "      <td>1.0164</td>\n",
       "      <td>0.56</td>\n",
       "    </tr>\n",
       "    <tr>\n",
       "      <th>3</th>\n",
       "      <td>213</td>\n",
       "      <td>ASM</td>\n",
       "      <td>American Samoa</td>\n",
       "      <td>Pago Pago</td>\n",
       "      <td>Oceania</td>\n",
       "      <td>44273</td>\n",
       "      <td>46189</td>\n",
       "      <td>51368</td>\n",
       "      <td>54849</td>\n",
       "      <td>58230</td>\n",
       "      <td>47818</td>\n",
       "      <td>32886</td>\n",
       "      <td>27075</td>\n",
       "      <td>199</td>\n",
       "      <td>222.4774</td>\n",
       "      <td>0.9831</td>\n",
       "      <td>0.00</td>\n",
       "    </tr>\n",
       "    <tr>\n",
       "      <th>4</th>\n",
       "      <td>203</td>\n",
       "      <td>AND</td>\n",
       "      <td>Andorra</td>\n",
       "      <td>Andorra la Vella</td>\n",
       "      <td>Europe</td>\n",
       "      <td>79824</td>\n",
       "      <td>77700</td>\n",
       "      <td>71746</td>\n",
       "      <td>71519</td>\n",
       "      <td>66097</td>\n",
       "      <td>53569</td>\n",
       "      <td>35611</td>\n",
       "      <td>19860</td>\n",
       "      <td>468</td>\n",
       "      <td>170.5641</td>\n",
       "      <td>1.0100</td>\n",
       "      <td>0.00</td>\n",
       "    </tr>\n",
       "    <tr>\n",
       "      <th>...</th>\n",
       "      <td>...</td>\n",
       "      <td>...</td>\n",
       "      <td>...</td>\n",
       "      <td>...</td>\n",
       "      <td>...</td>\n",
       "      <td>...</td>\n",
       "      <td>...</td>\n",
       "      <td>...</td>\n",
       "      <td>...</td>\n",
       "      <td>...</td>\n",
       "      <td>...</td>\n",
       "      <td>...</td>\n",
       "      <td>...</td>\n",
       "      <td>...</td>\n",
       "      <td>...</td>\n",
       "      <td>...</td>\n",
       "      <td>...</td>\n",
       "    </tr>\n",
       "    <tr>\n",
       "      <th>229</th>\n",
       "      <td>226</td>\n",
       "      <td>WLF</td>\n",
       "      <td>Wallis and Futuna</td>\n",
       "      <td>Mata-Utu</td>\n",
       "      <td>Oceania</td>\n",
       "      <td>11572</td>\n",
       "      <td>11655</td>\n",
       "      <td>12182</td>\n",
       "      <td>13142</td>\n",
       "      <td>14723</td>\n",
       "      <td>13454</td>\n",
       "      <td>11315</td>\n",
       "      <td>9377</td>\n",
       "      <td>142</td>\n",
       "      <td>81.4930</td>\n",
       "      <td>0.9953</td>\n",
       "      <td>0.00</td>\n",
       "    </tr>\n",
       "    <tr>\n",
       "      <th>230</th>\n",
       "      <td>172</td>\n",
       "      <td>ESH</td>\n",
       "      <td>Western Sahara</td>\n",
       "      <td>El AaiÃºn</td>\n",
       "      <td>Africa</td>\n",
       "      <td>575986</td>\n",
       "      <td>556048</td>\n",
       "      <td>491824</td>\n",
       "      <td>413296</td>\n",
       "      <td>270375</td>\n",
       "      <td>178529</td>\n",
       "      <td>116775</td>\n",
       "      <td>76371</td>\n",
       "      <td>266000</td>\n",
       "      <td>2.1654</td>\n",
       "      <td>1.0184</td>\n",
       "      <td>0.01</td>\n",
       "    </tr>\n",
       "    <tr>\n",
       "      <th>231</th>\n",
       "      <td>46</td>\n",
       "      <td>YEM</td>\n",
       "      <td>Yemen</td>\n",
       "      <td>Sanaa</td>\n",
       "      <td>Asia</td>\n",
       "      <td>33696614</td>\n",
       "      <td>32284046</td>\n",
       "      <td>28516545</td>\n",
       "      <td>24743946</td>\n",
       "      <td>18628700</td>\n",
       "      <td>13375121</td>\n",
       "      <td>9204938</td>\n",
       "      <td>6843607</td>\n",
       "      <td>527968</td>\n",
       "      <td>63.8232</td>\n",
       "      <td>1.0217</td>\n",
       "      <td>0.42</td>\n",
       "    </tr>\n",
       "    <tr>\n",
       "      <th>232</th>\n",
       "      <td>63</td>\n",
       "      <td>ZMB</td>\n",
       "      <td>Zambia</td>\n",
       "      <td>Lusaka</td>\n",
       "      <td>Africa</td>\n",
       "      <td>20017675</td>\n",
       "      <td>18927715</td>\n",
       "      <td>16248230</td>\n",
       "      <td>13792086</td>\n",
       "      <td>9891136</td>\n",
       "      <td>7686401</td>\n",
       "      <td>5720438</td>\n",
       "      <td>4281671</td>\n",
       "      <td>752612</td>\n",
       "      <td>26.5976</td>\n",
       "      <td>1.0280</td>\n",
       "      <td>0.25</td>\n",
       "    </tr>\n",
       "    <tr>\n",
       "      <th>233</th>\n",
       "      <td>74</td>\n",
       "      <td>ZWE</td>\n",
       "      <td>Zimbabwe</td>\n",
       "      <td>Harare</td>\n",
       "      <td>Africa</td>\n",
       "      <td>16320537</td>\n",
       "      <td>15669666</td>\n",
       "      <td>14154937</td>\n",
       "      <td>12839771</td>\n",
       "      <td>11834676</td>\n",
       "      <td>10113893</td>\n",
       "      <td>7049926</td>\n",
       "      <td>5202918</td>\n",
       "      <td>390757</td>\n",
       "      <td>41.7665</td>\n",
       "      <td>1.0204</td>\n",
       "      <td>0.20</td>\n",
       "    </tr>\n",
       "  </tbody>\n",
       "</table>\n",
       "<p>234 rows × 17 columns</p>\n",
       "</div>"
      ],
      "text/plain": [
       "     Rank CCA3            Country           Capital Continent  \\\n",
       "0      36  AFG        Afghanistan             Kabul      Asia   \n",
       "1     138  ALB            Albania            Tirana    Europe   \n",
       "2      34  DZA            Algeria           Algiers    Africa   \n",
       "3     213  ASM     American Samoa         Pago Pago   Oceania   \n",
       "4     203  AND            Andorra  Andorra la Vella    Europe   \n",
       "..    ...  ...                ...               ...       ...   \n",
       "229   226  WLF  Wallis and Futuna          Mata-Utu   Oceania   \n",
       "230   172  ESH     Western Sahara         El AaiÃºn    Africa   \n",
       "231    46  YEM              Yemen             Sanaa      Asia   \n",
       "232    63  ZMB             Zambia            Lusaka    Africa   \n",
       "233    74  ZWE           Zimbabwe            Harare    Africa   \n",
       "\n",
       "     2022 Population  2020 Population  2015 Population  2010 Population  \\\n",
       "0           41128771         38972230         33753499         28189672   \n",
       "1            2842321          2866849          2882481          2913399   \n",
       "2           44903225         43451666         39543154         35856344   \n",
       "3              44273            46189            51368            54849   \n",
       "4              79824            77700            71746            71519   \n",
       "..               ...              ...              ...              ...   \n",
       "229            11572            11655            12182            13142   \n",
       "230           575986           556048           491824           413296   \n",
       "231         33696614         32284046         28516545         24743946   \n",
       "232         20017675         18927715         16248230         13792086   \n",
       "233         16320537         15669666         14154937         12839771   \n",
       "\n",
       "     2000 Population  1990 Population  1980 Population  1970 Population  \\\n",
       "0           19542982         10694796         12486631         10752971   \n",
       "1            3182021          3295066          2941651          2324731   \n",
       "2           30774621         25518074         18739378         13795915   \n",
       "3              58230            47818            32886            27075   \n",
       "4              66097            53569            35611            19860   \n",
       "..               ...              ...              ...              ...   \n",
       "229            14723            13454            11315             9377   \n",
       "230           270375           178529           116775            76371   \n",
       "231         18628700         13375121          9204938          6843607   \n",
       "232          9891136          7686401          5720438          4281671   \n",
       "233         11834676         10113893          7049926          5202918   \n",
       "\n",
       "     Area (kmÂ²)  Density (per kmÂ²)  Growth Rate  World Population Percentage  \n",
       "0         652230             63.0587       1.0257                         0.52  \n",
       "1          28748             98.8702       0.9957                         0.04  \n",
       "2        2381741             18.8531       1.0164                         0.56  \n",
       "3            199            222.4774       0.9831                         0.00  \n",
       "4            468            170.5641       1.0100                         0.00  \n",
       "..           ...                 ...          ...                          ...  \n",
       "229          142             81.4930       0.9953                         0.00  \n",
       "230       266000              2.1654       1.0184                         0.01  \n",
       "231       527968             63.8232       1.0217                         0.42  \n",
       "232       752612             26.5976       1.0280                         0.25  \n",
       "233       390757             41.7665       1.0204                         0.20  \n",
       "\n",
       "[234 rows x 17 columns]"
      ]
     },
     "execution_count": 15,
     "metadata": {},
     "output_type": "execute_result"
    }
   ],
   "source": [
    "#had to troubleshoot to figure out why I could not install openpyxl, but eventually got it figured out so this file would load properly\n",
    "df = pd.read_excel(r\"C:\\Users\\tm96\\Documents\\Projects\\Python_Stuff\\Mod_2\\Week_1\\Data_Sets\\world_population_excel_workbook.xlsx\")\n",
    "df"
   ]
  },
  {
   "cell_type": "code",
   "execution_count": null,
   "id": "1f2e3fa8",
   "metadata": {},
   "outputs": [],
   "source": []
  },
  {
   "cell_type": "code",
   "execution_count": null,
   "id": "d8b1a165",
   "metadata": {},
   "outputs": [],
   "source": []
  },
  {
   "cell_type": "code",
   "execution_count": null,
   "id": "3f5af7c5",
   "metadata": {},
   "outputs": [],
   "source": []
  },
  {
   "cell_type": "code",
   "execution_count": null,
   "id": "932c350e",
   "metadata": {},
   "outputs": [],
   "source": []
  },
  {
   "cell_type": "code",
   "execution_count": null,
   "id": "dfc30cdf",
   "metadata": {},
   "outputs": [],
   "source": []
  },
  {
   "cell_type": "code",
   "execution_count": null,
   "id": "99b6d39a",
   "metadata": {},
   "outputs": [],
   "source": []
  },
  {
   "cell_type": "code",
   "execution_count": null,
   "id": "d4d531a7",
   "metadata": {},
   "outputs": [],
   "source": []
  }
 ],
 "metadata": {
  "kernelspec": {
   "display_name": "Python 3",
   "language": "python",
   "name": "python3"
  },
  "language_info": {
   "codemirror_mode": {
    "name": "ipython",
    "version": 3
   },
   "file_extension": ".py",
   "mimetype": "text/x-python",
   "name": "python",
   "nbconvert_exporter": "python",
   "pygments_lexer": "ipython3",
   "version": "3.13.5"
  }
 },
 "nbformat": 4,
 "nbformat_minor": 5
}
