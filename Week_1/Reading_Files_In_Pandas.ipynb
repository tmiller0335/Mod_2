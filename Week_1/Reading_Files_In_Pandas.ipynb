{
 "cells": [
  {
   "cell_type": "code",
   "execution_count": 2,
   "id": "227e4825",
   "metadata": {},
   "outputs": [],
   "source": [
    "import pandas as pd"
   ]
  },
  {
   "cell_type": "code",
   "execution_count": null,
   "id": "011c2a68",
   "metadata": {},
   "outputs": [
    {
     "data": {
      "application/vnd.microsoft.datawrangler.viewer.v0+json": {
       "columns": [
        {
         "name": "index",
         "rawType": "int64",
         "type": "integer"
        },
        {
         "name": "Country",
         "rawType": "object",
         "type": "string"
        },
        {
         "name": "Region",
         "rawType": "object",
         "type": "string"
        }
       ],
       "ref": "4850cbd6-01e3-4152-a906-0d57a045050d",
       "rows": [
        [
         "0",
         "Country",
         "Region"
        ],
        [
         "1",
         "Afghanistan ",
         "ASIA (EX. NEAR EAST)         "
        ],
        [
         "2",
         "Albania ",
         "EASTERN EUROPE                     "
        ],
        [
         "3",
         "Algeria ",
         "NORTHERN AFRICA                    "
        ],
        [
         "4",
         "American Samoa ",
         "OCEANIA                            "
        ],
        [
         "5",
         "Andorra ",
         "WESTERN EUROPE                     "
        ],
        [
         "6",
         "Angola ",
         "SUB-SAHARAN AFRICA                 "
        ],
        [
         "7",
         "Anguilla ",
         "LATIN AMER. & CARIB    "
        ],
        [
         "8",
         "Antigua & Barbuda ",
         "LATIN AMER. & CARIB    "
        ],
        [
         "9",
         "Argentina ",
         "LATIN AMER. & CARIB    "
        ],
        [
         "10",
         "Armenia ",
         "C.W. OF IND. STATES "
        ],
        [
         "11",
         "Aruba ",
         "LATIN AMER. & CARIB    "
        ],
        [
         "12",
         "Australia ",
         "OCEANIA                            "
        ],
        [
         "13",
         "Austria ",
         "WESTERN EUROPE                     "
        ],
        [
         "14",
         "Azerbaijan ",
         "C.W. OF IND. STATES "
        ],
        [
         "15",
         "Bahamas, The ",
         "LATIN AMER. & CARIB    "
        ],
        [
         "16",
         "Bahrain ",
         "NEAR EAST                          "
        ],
        [
         "17",
         "Bangladesh ",
         "ASIA (EX. NEAR EAST)         "
        ],
        [
         "18",
         "Barbados ",
         "LATIN AMER. & CARIB    "
        ],
        [
         "19",
         "Belarus ",
         "C.W. OF IND. STATES "
        ],
        [
         "20",
         "Belgium ",
         "WESTERN EUROPE                     "
        ],
        [
         "21",
         "Belize ",
         "LATIN AMER. & CARIB    "
        ],
        [
         "22",
         "Benin ",
         "SUB-SAHARAN AFRICA                 "
        ],
        [
         "23",
         "Bermuda ",
         "NORTHERN AMERICA                   "
        ],
        [
         "24",
         "Bhutan ",
         "ASIA (EX. NEAR EAST)         "
        ],
        [
         "25",
         "Bolivia ",
         "LATIN AMER. & CARIB    "
        ],
        [
         "26",
         "Bosnia & Herzegovina ",
         "EASTERN EUROPE                     "
        ],
        [
         "27",
         "Botswana ",
         "SUB-SAHARAN AFRICA                 "
        ],
        [
         "28",
         "Brazil ",
         "LATIN AMER. & CARIB    "
        ],
        [
         "29",
         "British Virgin Is. ",
         "LATIN AMER. & CARIB    "
        ],
        [
         "30",
         "Brunei ",
         "ASIA (EX. NEAR EAST)         "
        ],
        [
         "31",
         "Bulgaria ",
         "EASTERN EUROPE                     "
        ],
        [
         "32",
         "Burkina Faso ",
         "SUB-SAHARAN AFRICA                 "
        ],
        [
         "33",
         "Burma ",
         "ASIA (EX. NEAR EAST)         "
        ],
        [
         "34",
         "Burundi ",
         "SUB-SAHARAN AFRICA                 "
        ],
        [
         "35",
         "Cambodia ",
         "ASIA (EX. NEAR EAST)         "
        ],
        [
         "36",
         "Cameroon ",
         "SUB-SAHARAN AFRICA                 "
        ],
        [
         "37",
         "Canada ",
         "NORTHERN AMERICA                   "
        ],
        [
         "38",
         "Cape Verde ",
         "SUB-SAHARAN AFRICA                 "
        ],
        [
         "39",
         "Cayman Islands ",
         "LATIN AMER. & CARIB    "
        ],
        [
         "40",
         "Central African Rep. ",
         "SUB-SAHARAN AFRICA                 "
        ],
        [
         "41",
         "Chad ",
         "SUB-SAHARAN AFRICA                 "
        ],
        [
         "42",
         "Chile ",
         "LATIN AMER. & CARIB    "
        ],
        [
         "43",
         "China ",
         "ASIA (EX. NEAR EAST)         "
        ],
        [
         "44",
         "Colombia ",
         "LATIN AMER. & CARIB    "
        ],
        [
         "45",
         "Comoros ",
         "SUB-SAHARAN AFRICA                 "
        ],
        [
         "46",
         "Congo, Dem. Rep. ",
         "SUB-SAHARAN AFRICA                 "
        ],
        [
         "47",
         "Congo, Repub. of the ",
         "SUB-SAHARAN AFRICA                 "
        ],
        [
         "48",
         "Cook Islands ",
         "OCEANIA                            "
        ],
        [
         "49",
         "Costa Rica ",
         "LATIN AMER. & CARIB    "
        ]
       ],
       "shape": {
        "columns": 2,
        "rows": 228
       }
      },
      "text/html": [
       "<div>\n",
       "<style scoped>\n",
       "    .dataframe tbody tr th:only-of-type {\n",
       "        vertical-align: middle;\n",
       "    }\n",
       "\n",
       "    .dataframe tbody tr th {\n",
       "        vertical-align: top;\n",
       "    }\n",
       "\n",
       "    .dataframe thead th {\n",
       "        text-align: right;\n",
       "    }\n",
       "</style>\n",
       "<table border=\"1\" class=\"dataframe\">\n",
       "  <thead>\n",
       "    <tr style=\"text-align: right;\">\n",
       "      <th></th>\n",
       "      <th>Country</th>\n",
       "      <th>Region</th>\n",
       "    </tr>\n",
       "  </thead>\n",
       "  <tbody>\n",
       "    <tr>\n",
       "      <th>0</th>\n",
       "      <td>Country</td>\n",
       "      <td>Region</td>\n",
       "    </tr>\n",
       "    <tr>\n",
       "      <th>1</th>\n",
       "      <td>Afghanistan</td>\n",
       "      <td>ASIA (EX. NEAR EAST)</td>\n",
       "    </tr>\n",
       "    <tr>\n",
       "      <th>2</th>\n",
       "      <td>Albania</td>\n",
       "      <td>EASTERN EUROPE</td>\n",
       "    </tr>\n",
       "    <tr>\n",
       "      <th>3</th>\n",
       "      <td>Algeria</td>\n",
       "      <td>NORTHERN AFRICA</td>\n",
       "    </tr>\n",
       "    <tr>\n",
       "      <th>4</th>\n",
       "      <td>American Samoa</td>\n",
       "      <td>OCEANIA</td>\n",
       "    </tr>\n",
       "    <tr>\n",
       "      <th>...</th>\n",
       "      <td>...</td>\n",
       "      <td>...</td>\n",
       "    </tr>\n",
       "    <tr>\n",
       "      <th>223</th>\n",
       "      <td>West Bank</td>\n",
       "      <td>NEAR EAST</td>\n",
       "    </tr>\n",
       "    <tr>\n",
       "      <th>224</th>\n",
       "      <td>Western Sahara</td>\n",
       "      <td>NORTHERN AFRICA</td>\n",
       "    </tr>\n",
       "    <tr>\n",
       "      <th>225</th>\n",
       "      <td>Yemen</td>\n",
       "      <td>NEAR EAST</td>\n",
       "    </tr>\n",
       "    <tr>\n",
       "      <th>226</th>\n",
       "      <td>Zambia</td>\n",
       "      <td>SUB-SAHARAN AFRICA</td>\n",
       "    </tr>\n",
       "    <tr>\n",
       "      <th>227</th>\n",
       "      <td>Zimbabwe</td>\n",
       "      <td>SUB-SAHARAN AFRICA</td>\n",
       "    </tr>\n",
       "  </tbody>\n",
       "</table>\n",
       "<p>228 rows × 2 columns</p>\n",
       "</div>"
      ],
      "text/plain": [
       "             Country                               Region\n",
       "0            Country                               Region\n",
       "1       Afghanistan         ASIA (EX. NEAR EAST)         \n",
       "2           Albania   EASTERN EUROPE                     \n",
       "3           Algeria   NORTHERN AFRICA                    \n",
       "4    American Samoa   OCEANIA                            \n",
       "..               ...                                  ...\n",
       "223       West Bank   NEAR EAST                          \n",
       "224  Western Sahara   NORTHERN AFRICA                    \n",
       "225           Yemen   NEAR EAST                          \n",
       "226          Zambia   SUB-SAHARAN AFRICA                 \n",
       "227        Zimbabwe   SUB-SAHARAN AFRICA                 \n",
       "\n",
       "[228 rows x 2 columns]"
      ]
     },
     "execution_count": 5,
     "metadata": {},
     "output_type": "execute_result"
    }
   ],
   "source": [
    "df = pd.read_csv(r\"C:\\Users\\tm96\\Documents\\Projects\\Python_Stuff\\Mod_2\\Week_1\\Data_Sets\\countries of the world.csv\")\n"
   ]
  },
  {
   "cell_type": "code",
   "execution_count": null,
   "id": "e1a59d4e",
   "metadata": {},
   "outputs": [],
   "source": []
  },
  {
   "cell_type": "code",
   "execution_count": null,
   "id": "cb39ce9c",
   "metadata": {},
   "outputs": [],
   "source": []
  },
  {
   "cell_type": "code",
   "execution_count": null,
   "id": "1fa86aee",
   "metadata": {},
   "outputs": [],
   "source": []
  },
  {
   "cell_type": "code",
   "execution_count": null,
   "id": "1f2e3fa8",
   "metadata": {},
   "outputs": [],
   "source": []
  },
  {
   "cell_type": "code",
   "execution_count": null,
   "id": "d8b1a165",
   "metadata": {},
   "outputs": [],
   "source": []
  },
  {
   "cell_type": "code",
   "execution_count": null,
   "id": "3f5af7c5",
   "metadata": {},
   "outputs": [],
   "source": []
  },
  {
   "cell_type": "code",
   "execution_count": null,
   "id": "932c350e",
   "metadata": {},
   "outputs": [],
   "source": []
  },
  {
   "cell_type": "code",
   "execution_count": null,
   "id": "dfc30cdf",
   "metadata": {},
   "outputs": [],
   "source": []
  },
  {
   "cell_type": "code",
   "execution_count": null,
   "id": "99b6d39a",
   "metadata": {},
   "outputs": [],
   "source": []
  },
  {
   "cell_type": "code",
   "execution_count": null,
   "id": "d4d531a7",
   "metadata": {},
   "outputs": [],
   "source": []
  }
 ],
 "metadata": {
  "kernelspec": {
   "display_name": "Python 3",
   "language": "python",
   "name": "python3"
  },
  "language_info": {
   "codemirror_mode": {
    "name": "ipython",
    "version": 3
   },
   "file_extension": ".py",
   "mimetype": "text/x-python",
   "name": "python",
   "nbconvert_exporter": "python",
   "pygments_lexer": "ipython3",
   "version": "3.13.5"
  }
 },
 "nbformat": 4,
 "nbformat_minor": 5
}
