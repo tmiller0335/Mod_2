{
 "cells": [
  {
   "cell_type": "code",
   "execution_count": 1,
   "id": "d9a87c20",
   "metadata": {},
   "outputs": [],
   "source": [
    "import pandas as pd "
   ]
  },
  {
   "cell_type": "code",
   "execution_count": 5,
   "id": "e89a74e9",
   "metadata": {},
   "outputs": [
    {
     "name": "stderr",
     "output_type": "stream",
     "text": [
      "C:\\Users\\tm96\\AppData\\Local\\Temp\\ipykernel_27036\\4047163526.py:1: UserWarning: Could not infer format, so each element will be parsed individually, falling back to `dateutil`. To ensure parsing is consistent and as-expected, please specify a format.\n",
      "  df = pd.read_csv(r'C:\\Users\\tm96\\Documents\\Projects\\Python_Stuff\\Mod_2\\Week_1\\Data_Sets\\Street_Tree_List.csv', parse_dates=['PlantDate'])\n"
     ]
    },
    {
     "data": {
      "application/vnd.microsoft.datawrangler.viewer.v0+json": {
       "columns": [
        {
         "name": "index",
         "rawType": "int64",
         "type": "integer"
        },
        {
         "name": "TreeID",
         "rawType": "int64",
         "type": "integer"
        },
        {
         "name": "qSpecies",
         "rawType": "object",
         "type": "string"
        },
        {
         "name": "PlantDate",
         "rawType": "datetime64[ns]",
         "type": "datetime"
        },
        {
         "name": "tree_depth",
         "rawType": "float64",
         "type": "float"
        }
       ],
       "ref": "117827ec-ca35-418a-aa12-5bb661b2cc95",
       "rows": [
        [
         "0",
         "46534",
         "Tree(s) ::",
         "2002-04-01 00:00:00",
         null
        ],
        [
         "1",
         "121399",
         "Corymbia ficifolia :: Red Flowering Gum",
         null,
         null
        ],
        [
         "2",
         "85269",
         "Arbutus 'Marina' :: Hybrid Strawberry Tree",
         "2007-07-24 00:00:00",
         null
        ],
        [
         "3",
         "121227",
         "Sequoia sempervirens :: Coast Redwood",
         null,
         null
        ],
        [
         "4",
         "45986",
         "Tree(s) ::",
         "2001-12-06 00:00:00",
         null
        ],
        [
         "5",
         "53918",
         "Prunus serrulata :: Ornamental Cherry",
         "1998-12-21 00:00:00",
         null
        ],
        [
         "6",
         "19600",
         "Cupressocyparis leylandii :: Leyland Cypress",
         null,
         "12.0"
        ],
        [
         "7",
         "19827",
         "Cupressocyparis leylandii :: Leyland Cypress",
         null,
         "6.0"
        ],
        [
         "8",
         "19601",
         "Cupressocyparis leylandii :: Leyland Cypress",
         null,
         "12.0"
        ],
        [
         "9",
         "19599",
         "Cupressocyparis leylandii :: Leyland Cypress",
         null,
         "12.0"
        ]
       ],
       "shape": {
        "columns": 4,
        "rows": 10
       }
      },
      "text/html": [
       "<div>\n",
       "<style scoped>\n",
       "    .dataframe tbody tr th:only-of-type {\n",
       "        vertical-align: middle;\n",
       "    }\n",
       "\n",
       "    .dataframe tbody tr th {\n",
       "        vertical-align: top;\n",
       "    }\n",
       "\n",
       "    .dataframe thead th {\n",
       "        text-align: right;\n",
       "    }\n",
       "</style>\n",
       "<table border=\"1\" class=\"dataframe\">\n",
       "  <thead>\n",
       "    <tr style=\"text-align: right;\">\n",
       "      <th></th>\n",
       "      <th>TreeID</th>\n",
       "      <th>qSpecies</th>\n",
       "      <th>PlantDate</th>\n",
       "      <th>tree_depth</th>\n",
       "    </tr>\n",
       "  </thead>\n",
       "  <tbody>\n",
       "    <tr>\n",
       "      <th>0</th>\n",
       "      <td>46534</td>\n",
       "      <td>Tree(s) ::</td>\n",
       "      <td>2002-04-01</td>\n",
       "      <td>NaN</td>\n",
       "    </tr>\n",
       "    <tr>\n",
       "      <th>1</th>\n",
       "      <td>121399</td>\n",
       "      <td>Corymbia ficifolia :: Red Flowering Gum</td>\n",
       "      <td>NaT</td>\n",
       "      <td>NaN</td>\n",
       "    </tr>\n",
       "    <tr>\n",
       "      <th>2</th>\n",
       "      <td>85269</td>\n",
       "      <td>Arbutus 'Marina' :: Hybrid Strawberry Tree</td>\n",
       "      <td>2007-07-24</td>\n",
       "      <td>NaN</td>\n",
       "    </tr>\n",
       "    <tr>\n",
       "      <th>3</th>\n",
       "      <td>121227</td>\n",
       "      <td>Sequoia sempervirens :: Coast Redwood</td>\n",
       "      <td>NaT</td>\n",
       "      <td>NaN</td>\n",
       "    </tr>\n",
       "    <tr>\n",
       "      <th>4</th>\n",
       "      <td>45986</td>\n",
       "      <td>Tree(s) ::</td>\n",
       "      <td>2001-12-06</td>\n",
       "      <td>NaN</td>\n",
       "    </tr>\n",
       "    <tr>\n",
       "      <th>5</th>\n",
       "      <td>53918</td>\n",
       "      <td>Prunus serrulata :: Ornamental Cherry</td>\n",
       "      <td>1998-12-21</td>\n",
       "      <td>NaN</td>\n",
       "    </tr>\n",
       "    <tr>\n",
       "      <th>6</th>\n",
       "      <td>19600</td>\n",
       "      <td>Cupressocyparis leylandii :: Leyland Cypress</td>\n",
       "      <td>NaT</td>\n",
       "      <td>12.0</td>\n",
       "    </tr>\n",
       "    <tr>\n",
       "      <th>7</th>\n",
       "      <td>19827</td>\n",
       "      <td>Cupressocyparis leylandii :: Leyland Cypress</td>\n",
       "      <td>NaT</td>\n",
       "      <td>6.0</td>\n",
       "    </tr>\n",
       "    <tr>\n",
       "      <th>8</th>\n",
       "      <td>19601</td>\n",
       "      <td>Cupressocyparis leylandii :: Leyland Cypress</td>\n",
       "      <td>NaT</td>\n",
       "      <td>12.0</td>\n",
       "    </tr>\n",
       "    <tr>\n",
       "      <th>9</th>\n",
       "      <td>19599</td>\n",
       "      <td>Cupressocyparis leylandii :: Leyland Cypress</td>\n",
       "      <td>NaT</td>\n",
       "      <td>12.0</td>\n",
       "    </tr>\n",
       "  </tbody>\n",
       "</table>\n",
       "</div>"
      ],
      "text/plain": [
       "   TreeID                                      qSpecies  PlantDate  tree_depth\n",
       "0   46534                                    Tree(s) :: 2002-04-01         NaN\n",
       "1  121399       Corymbia ficifolia :: Red Flowering Gum        NaT         NaN\n",
       "2   85269    Arbutus 'Marina' :: Hybrid Strawberry Tree 2007-07-24         NaN\n",
       "3  121227         Sequoia sempervirens :: Coast Redwood        NaT         NaN\n",
       "4   45986                                    Tree(s) :: 2001-12-06         NaN\n",
       "5   53918         Prunus serrulata :: Ornamental Cherry 1998-12-21         NaN\n",
       "6   19600  Cupressocyparis leylandii :: Leyland Cypress        NaT        12.0\n",
       "7   19827  Cupressocyparis leylandii :: Leyland Cypress        NaT         6.0\n",
       "8   19601  Cupressocyparis leylandii :: Leyland Cypress        NaT        12.0\n",
       "9   19599  Cupressocyparis leylandii :: Leyland Cypress        NaT        12.0"
      ]
     },
     "execution_count": 5,
     "metadata": {},
     "output_type": "execute_result"
    }
   ],
   "source": [
    "df = pd.read_csv(r'C:\\Users\\tm96\\Documents\\Projects\\Python_Stuff\\Mod_2\\Week_1\\Data_Sets\\Street_Tree_List.csv', parse_dates=['PlantDate'])\n",
    "df = df[['TreeID', 'qSpecies', 'PlantDate', 'DBH']]\n",
    "df.rename(mapper={'DBH':\"tree_depth\"}, axis=1, inplace=True)\n",
    "\n",
    "df.head(10)"
   ]
  },
  {
   "cell_type": "code",
   "execution_count": 6,
   "id": "419cc82e",
   "metadata": {},
   "outputs": [
    {
     "data": {
      "application/vnd.microsoft.datawrangler.viewer.v0+json": {
       "columns": [
        {
         "name": "index",
         "rawType": "object",
         "type": "string"
        },
        {
         "name": "TreeID",
         "rawType": "float64",
         "type": "float"
        },
        {
         "name": "PlantDate",
         "rawType": "object",
         "type": "unknown"
        },
        {
         "name": "tree_depth",
         "rawType": "float64",
         "type": "float"
        }
       ],
       "ref": "2b000466-11b8-4f26-a970-0ff9504ddd1f",
       "rows": [
        [
         "count",
         "193940.0",
         "68911",
         "151614.0"
        ],
        [
         "mean",
         "126960.02767350727",
         "2000-12-02 22:19:59.122346112",
         "9.927664991359636"
        ],
        [
         "min",
         "1.0",
         "1955-09-19 00:00:00",
         "0.0"
        ],
        [
         "25%",
         "52836.75",
         "1995-01-30 00:00:00",
         "3.0"
        ],
        [
         "50%",
         "121171.5",
         "2001-07-24 00:00:00",
         "7.0"
        ],
        [
         "75%",
         "203348.25",
         "2008-11-21 00:00:00",
         "12.0"
        ],
        [
         "max",
         "262465.0",
         "2020-07-30 00:00:00",
         "9999.0"
        ],
        [
         "std",
         "79504.82913119717",
         null,
         "29.31893236264582"
        ]
       ],
       "shape": {
        "columns": 3,
        "rows": 8
       }
      },
      "text/html": [
       "<div>\n",
       "<style scoped>\n",
       "    .dataframe tbody tr th:only-of-type {\n",
       "        vertical-align: middle;\n",
       "    }\n",
       "\n",
       "    .dataframe tbody tr th {\n",
       "        vertical-align: top;\n",
       "    }\n",
       "\n",
       "    .dataframe thead th {\n",
       "        text-align: right;\n",
       "    }\n",
       "</style>\n",
       "<table border=\"1\" class=\"dataframe\">\n",
       "  <thead>\n",
       "    <tr style=\"text-align: right;\">\n",
       "      <th></th>\n",
       "      <th>TreeID</th>\n",
       "      <th>PlantDate</th>\n",
       "      <th>tree_depth</th>\n",
       "    </tr>\n",
       "  </thead>\n",
       "  <tbody>\n",
       "    <tr>\n",
       "      <th>count</th>\n",
       "      <td>193940.000000</td>\n",
       "      <td>68911</td>\n",
       "      <td>151614.000000</td>\n",
       "    </tr>\n",
       "    <tr>\n",
       "      <th>mean</th>\n",
       "      <td>126960.027674</td>\n",
       "      <td>2000-12-02 22:19:59.122346112</td>\n",
       "      <td>9.927665</td>\n",
       "    </tr>\n",
       "    <tr>\n",
       "      <th>min</th>\n",
       "      <td>1.000000</td>\n",
       "      <td>1955-09-19 00:00:00</td>\n",
       "      <td>0.000000</td>\n",
       "    </tr>\n",
       "    <tr>\n",
       "      <th>25%</th>\n",
       "      <td>52836.750000</td>\n",
       "      <td>1995-01-30 00:00:00</td>\n",
       "      <td>3.000000</td>\n",
       "    </tr>\n",
       "    <tr>\n",
       "      <th>50%</th>\n",
       "      <td>121171.500000</td>\n",
       "      <td>2001-07-24 00:00:00</td>\n",
       "      <td>7.000000</td>\n",
       "    </tr>\n",
       "    <tr>\n",
       "      <th>75%</th>\n",
       "      <td>203348.250000</td>\n",
       "      <td>2008-11-21 00:00:00</td>\n",
       "      <td>12.000000</td>\n",
       "    </tr>\n",
       "    <tr>\n",
       "      <th>max</th>\n",
       "      <td>262465.000000</td>\n",
       "      <td>2020-07-30 00:00:00</td>\n",
       "      <td>9999.000000</td>\n",
       "    </tr>\n",
       "    <tr>\n",
       "      <th>std</th>\n",
       "      <td>79504.829131</td>\n",
       "      <td>NaN</td>\n",
       "      <td>29.318932</td>\n",
       "    </tr>\n",
       "  </tbody>\n",
       "</table>\n",
       "</div>"
      ],
      "text/plain": [
       "              TreeID                      PlantDate     tree_depth\n",
       "count  193940.000000                          68911  151614.000000\n",
       "mean   126960.027674  2000-12-02 22:19:59.122346112       9.927665\n",
       "min         1.000000            1955-09-19 00:00:00       0.000000\n",
       "25%     52836.750000            1995-01-30 00:00:00       3.000000\n",
       "50%    121171.500000            2001-07-24 00:00:00       7.000000\n",
       "75%    203348.250000            2008-11-21 00:00:00      12.000000\n",
       "max    262465.000000            2020-07-30 00:00:00    9999.000000\n",
       "std     79504.829131                            NaN      29.318932"
      ]
     },
     "execution_count": 6,
     "metadata": {},
     "output_type": "execute_result"
    }
   ],
   "source": [
    "df.describe()"
   ]
  },
  {
   "cell_type": "code",
   "execution_count": null,
   "id": "c3ce9cba",
   "metadata": {},
   "outputs": [],
   "source": []
  },
  {
   "cell_type": "code",
   "execution_count": null,
   "id": "20884dd2",
   "metadata": {},
   "outputs": [],
   "source": []
  },
  {
   "cell_type": "code",
   "execution_count": null,
   "id": "d6b9804b",
   "metadata": {},
   "outputs": [],
   "source": []
  }
 ],
 "metadata": {
  "kernelspec": {
   "display_name": "Python 3",
   "language": "python",
   "name": "python3"
  },
  "language_info": {
   "codemirror_mode": {
    "name": "ipython",
    "version": 3
   },
   "file_extension": ".py",
   "mimetype": "text/x-python",
   "name": "python",
   "nbconvert_exporter": "python",
   "pygments_lexer": "ipython3",
   "version": "3.13.5"
  }
 },
 "nbformat": 4,
 "nbformat_minor": 5
}
