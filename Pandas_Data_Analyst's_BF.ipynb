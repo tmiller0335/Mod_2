{
 "cells": [
  {
   "cell_type": "code",
   "execution_count": 11,
   "id": "9caf6b09",
   "metadata": {},
   "outputs": [
    {
     "name": "stdout",
     "output_type": "stream",
     "text": [
      "      Name  Age\n",
      "0    Alice   25\n",
      "1      Bob   32\n",
      "2  Charlie   37\n"
     ]
    }
   ],
   "source": [
    "#creating a data frame from scratch\n",
    "import pandas as pd\n",
    "data = {\n",
    "    'Name': ['Alice', 'Bob', 'Charlie'],\n",
    "    'Age': [25, 32, 37]\n",
    "}\n",
    "\n",
    "df = pd.DataFrame(data)\n",
    "print(df)"
   ]
  },
  {
   "cell_type": "code",
   "execution_count": 12,
   "id": "9b7b6a4f",
   "metadata": {},
   "outputs": [
    {
     "name": "stdout",
     "output_type": "stream",
     "text": [
      "<class 'pandas.core.frame.DataFrame'>\n",
      "RangeIndex: 3 entries, 0 to 2\n",
      "Data columns (total 2 columns):\n",
      " #   Column  Non-Null Count  Dtype \n",
      "---  ------  --------------  ----- \n",
      " 0   Name    3 non-null      object\n",
      " 1   Age     3 non-null      int64 \n",
      "dtypes: int64(1), object(1)\n",
      "memory usage: 180.0+ bytes\n"
     ]
    },
    {
     "data": {
      "text/plain": [
       "(3, 2)"
      ]
     },
     "execution_count": 12,
     "metadata": {},
     "output_type": "execute_result"
    }
   ],
   "source": [
    "df.head()        # First 5 rows\n",
    "df.tail()        # Last 5 rows\n",
    "df.info()        # Structure, column types, missing values\n",
    "df.shape # Returns a tuple with the df dimension (# of rows, # columns)"
   ]
  },
  {
   "cell_type": "code",
   "execution_count": 13,
   "id": "7ca1861b",
   "metadata": {},
   "outputs": [
    {
     "name": "stdout",
     "output_type": "stream",
     "text": [
      "      Name  Age   Department  Salary\n",
      "0    Alice   25           HR   50000\n",
      "1      Bob   32  Engineering   75000\n",
      "2  Charlie   37        Sales   62000\n",
      "3    David   29    Marketing   58000\n",
      "4   Evelyn   41  Engineering   80000\n",
      "      Name  Age   Department  Salary\n",
      "0    Alice   25           HR   50000\n",
      "1      Bob   32  Engineering   75000\n",
      "2  Charlie   37        Sales   62000\n",
      "3    David   29    Marketing   58000\n",
      "4   Evelyn   41  Engineering   80000\n",
      "<class 'pandas.core.frame.DataFrame'>\n",
      "RangeIndex: 5 entries, 0 to 4\n",
      "Data columns (total 4 columns):\n",
      " #   Column      Non-Null Count  Dtype \n",
      "---  ------      --------------  ----- \n",
      " 0   Name        5 non-null      object\n",
      " 1   Age         5 non-null      int64 \n",
      " 2   Department  5 non-null      object\n",
      " 3   Salary      5 non-null      int64 \n",
      "dtypes: int64(2), object(2)\n",
      "memory usage: 292.0+ bytes\n",
      "None\n",
      "(5, 4)\n"
     ]
    }
   ],
   "source": [
    "\n",
    "# We made a simple DataFrame\n",
    "data = {\n",
    "    'Name': ['Alice', 'Bob', 'Charlie', 'David', 'Evelyn'],\n",
    "    'Age': [25, 32, 37, 29, 41],\n",
    "    'Department': ['HR', 'Engineering', 'Sales', 'Marketing', 'Engineering'],\n",
    "    'Salary': [50000, 75000, 62000, 58000, 80000]\n",
    "}\n",
    "\n",
    "df = pd.DataFrame(data)\n",
    "\n",
    "\n",
    "##For the codes below, type in INSIDE the print statements!\n",
    "# 1. View the first five rows\n",
    "print(df.head())\n",
    "\n",
    "# 2. View the last five rows\n",
    "print(df.tail())\n",
    "\n",
    "# 3. Get basic info about the DataFrame\n",
    "print(df.info())\n",
    "\n",
    "# 4. Check the shape of the DataFrame\n",
    "print(df.shape)\n"
   ]
  },
  {
   "cell_type": "code",
   "execution_count": 14,
   "id": "3e1b878e",
   "metadata": {},
   "outputs": [
    {
     "data": {
      "application/vnd.microsoft.datawrangler.viewer.v0+json": {
       "columns": [
        {
         "name": "index",
         "rawType": "int64",
         "type": "integer"
        },
        {
         "name": "Age",
         "rawType": "int64",
         "type": "integer"
        }
       ],
       "ref": "af2674cb-7fc1-4000-b66d-3c062d2bf9cb",
       "rows": [
        [
         "0",
         "25"
        ],
        [
         "1",
         "32"
        ],
        [
         "2",
         "37"
        ],
        [
         "3",
         "29"
        ],
        [
         "4",
         "41"
        ]
       ],
       "shape": {
        "columns": 1,
        "rows": 5
       }
      },
      "text/plain": [
       "0    25\n",
       "1    32\n",
       "2    37\n",
       "3    29\n",
       "4    41\n",
       "Name: Age, dtype: int64"
      ]
     },
     "execution_count": 14,
     "metadata": {},
     "output_type": "execute_result"
    }
   ],
   "source": [
    "df.Age # Dot Notation: useful when there are no empty spaces in your column names\n",
    "df['Age'] # Bracket Notation: necessary when column names include spaces or special characters (recommended)"
   ]
  },
  {
   "cell_type": "code",
   "execution_count": 15,
   "id": "64626295",
   "metadata": {},
   "outputs": [
    {
     "data": {
      "application/vnd.microsoft.datawrangler.viewer.v0+json": {
       "columns": [
        {
         "name": "index",
         "rawType": "int64",
         "type": "integer"
        },
        {
         "name": "Name",
         "rawType": "object",
         "type": "string"
        },
        {
         "name": "Age",
         "rawType": "int64",
         "type": "integer"
        }
       ],
       "ref": "d21352f1-c452-4b69-bee7-576b79874dc6",
       "rows": [
        [
         "0",
         "Alice",
         "25"
        ],
        [
         "1",
         "Bob",
         "32"
        ],
        [
         "2",
         "Charlie",
         "37"
        ],
        [
         "3",
         "David",
         "29"
        ],
        [
         "4",
         "Evelyn",
         "41"
        ]
       ],
       "shape": {
        "columns": 2,
        "rows": 5
       }
      },
      "text/html": [
       "<div>\n",
       "<style scoped>\n",
       "    .dataframe tbody tr th:only-of-type {\n",
       "        vertical-align: middle;\n",
       "    }\n",
       "\n",
       "    .dataframe tbody tr th {\n",
       "        vertical-align: top;\n",
       "    }\n",
       "\n",
       "    .dataframe thead th {\n",
       "        text-align: right;\n",
       "    }\n",
       "</style>\n",
       "<table border=\"1\" class=\"dataframe\">\n",
       "  <thead>\n",
       "    <tr style=\"text-align: right;\">\n",
       "      <th></th>\n",
       "      <th>Name</th>\n",
       "      <th>Age</th>\n",
       "    </tr>\n",
       "  </thead>\n",
       "  <tbody>\n",
       "    <tr>\n",
       "      <th>0</th>\n",
       "      <td>Alice</td>\n",
       "      <td>25</td>\n",
       "    </tr>\n",
       "    <tr>\n",
       "      <th>1</th>\n",
       "      <td>Bob</td>\n",
       "      <td>32</td>\n",
       "    </tr>\n",
       "    <tr>\n",
       "      <th>2</th>\n",
       "      <td>Charlie</td>\n",
       "      <td>37</td>\n",
       "    </tr>\n",
       "    <tr>\n",
       "      <th>3</th>\n",
       "      <td>David</td>\n",
       "      <td>29</td>\n",
       "    </tr>\n",
       "    <tr>\n",
       "      <th>4</th>\n",
       "      <td>Evelyn</td>\n",
       "      <td>41</td>\n",
       "    </tr>\n",
       "  </tbody>\n",
       "</table>\n",
       "</div>"
      ],
      "text/plain": [
       "      Name  Age\n",
       "0    Alice   25\n",
       "1      Bob   32\n",
       "2  Charlie   37\n",
       "3    David   29\n",
       "4   Evelyn   41"
      ]
     },
     "execution_count": 15,
     "metadata": {},
     "output_type": "execute_result"
    }
   ],
   "source": [
    "df[['Name', 'Age']]"
   ]
  },
  {
   "cell_type": "code",
   "execution_count": 17,
   "id": "54b9baf0",
   "metadata": {},
   "outputs": [
    {
     "data": {
      "application/vnd.microsoft.datawrangler.viewer.v0+json": {
       "columns": [
        {
         "name": "index",
         "rawType": "int64",
         "type": "integer"
        },
        {
         "name": "Name",
         "rawType": "object",
         "type": "string"
        },
        {
         "name": "Age",
         "rawType": "int64",
         "type": "integer"
        },
        {
         "name": "Department",
         "rawType": "object",
         "type": "string"
        },
        {
         "name": "Salary",
         "rawType": "int64",
         "type": "integer"
        }
       ],
       "ref": "c4e1a38e-1c0a-4530-bd85-525b19d3f653",
       "rows": [
        [
         "1",
         "Bob",
         "32",
         "Engineering",
         "75000"
        ],
        [
         "4",
         "Evelyn",
         "41",
         "Engineering",
         "80000"
        ]
       ],
       "shape": {
        "columns": 4,
        "rows": 2
       }
      },
      "text/html": [
       "<div>\n",
       "<style scoped>\n",
       "    .dataframe tbody tr th:only-of-type {\n",
       "        vertical-align: middle;\n",
       "    }\n",
       "\n",
       "    .dataframe tbody tr th {\n",
       "        vertical-align: top;\n",
       "    }\n",
       "\n",
       "    .dataframe thead th {\n",
       "        text-align: right;\n",
       "    }\n",
       "</style>\n",
       "<table border=\"1\" class=\"dataframe\">\n",
       "  <thead>\n",
       "    <tr style=\"text-align: right;\">\n",
       "      <th></th>\n",
       "      <th>Name</th>\n",
       "      <th>Age</th>\n",
       "      <th>Department</th>\n",
       "      <th>Salary</th>\n",
       "    </tr>\n",
       "  </thead>\n",
       "  <tbody>\n",
       "    <tr>\n",
       "      <th>1</th>\n",
       "      <td>Bob</td>\n",
       "      <td>32</td>\n",
       "      <td>Engineering</td>\n",
       "      <td>75000</td>\n",
       "    </tr>\n",
       "    <tr>\n",
       "      <th>4</th>\n",
       "      <td>Evelyn</td>\n",
       "      <td>41</td>\n",
       "      <td>Engineering</td>\n",
       "      <td>80000</td>\n",
       "    </tr>\n",
       "  </tbody>\n",
       "</table>\n",
       "</div>"
      ],
      "text/plain": [
       "     Name  Age   Department  Salary\n",
       "1     Bob   32  Engineering   75000\n",
       "4  Evelyn   41  Engineering   80000"
      ]
     },
     "execution_count": 17,
     "metadata": {},
     "output_type": "execute_result"
    }
   ],
   "source": [
    "# Select just the 'Name' column\n",
    "df['Name']\n",
    "\n",
    "# Select 'Name' and 'Salary' columns\n",
    "df[['Name', 'Salary']]\n",
    "\n",
    "# Filter for employees older than 30\n",
    "df[df['Age'] > 30]\n",
    "\n",
    "# Filter for employees in the Engineering department\n",
    "df[df['Department'] == 'Engineering']"
   ]
  },
  {
   "cell_type": "code",
   "execution_count": 18,
   "id": "ea07e171",
   "metadata": {},
   "outputs": [
    {
     "data": {
      "application/vnd.microsoft.datawrangler.viewer.v0+json": {
       "columns": [
        {
         "name": "index",
         "rawType": "int64",
         "type": "integer"
        },
        {
         "name": "Name",
         "rawType": "object",
         "type": "string"
        },
        {
         "name": "Age",
         "rawType": "int64",
         "type": "integer"
        }
       ],
       "ref": "ae093350-aa26-4b6a-b474-9503f335e810",
       "rows": [
        [
         "0",
         "Alice",
         "25"
        ],
        [
         "1",
         "Bob",
         "32"
        ],
        [
         "2",
         "Charlie",
         "37"
        ]
       ],
       "shape": {
        "columns": 2,
        "rows": 3
       }
      },
      "text/html": [
       "<div>\n",
       "<style scoped>\n",
       "    .dataframe tbody tr th:only-of-type {\n",
       "        vertical-align: middle;\n",
       "    }\n",
       "\n",
       "    .dataframe tbody tr th {\n",
       "        vertical-align: top;\n",
       "    }\n",
       "\n",
       "    .dataframe thead th {\n",
       "        text-align: right;\n",
       "    }\n",
       "</style>\n",
       "<table border=\"1\" class=\"dataframe\">\n",
       "  <thead>\n",
       "    <tr style=\"text-align: right;\">\n",
       "      <th></th>\n",
       "      <th>Name</th>\n",
       "      <th>Age</th>\n",
       "    </tr>\n",
       "  </thead>\n",
       "  <tbody>\n",
       "    <tr>\n",
       "      <th>0</th>\n",
       "      <td>Alice</td>\n",
       "      <td>25</td>\n",
       "    </tr>\n",
       "    <tr>\n",
       "      <th>1</th>\n",
       "      <td>Bob</td>\n",
       "      <td>32</td>\n",
       "    </tr>\n",
       "    <tr>\n",
       "      <th>2</th>\n",
       "      <td>Charlie</td>\n",
       "      <td>37</td>\n",
       "    </tr>\n",
       "  </tbody>\n",
       "</table>\n",
       "</div>"
      ],
      "text/plain": [
       "      Name  Age\n",
       "0    Alice   25\n",
       "1      Bob   32\n",
       "2  Charlie   37"
      ]
     },
     "execution_count": 18,
     "metadata": {},
     "output_type": "execute_result"
    }
   ],
   "source": [
    "df.loc[0]                    # Row with label 0\n",
    "df.loc[0:2]                  # Rows with labels 0 through 2\n",
    "df.loc[0:2, ['Name', 'Age']] # Rows 0-2, only 'Name' and 'Age' columns"
   ]
  },
  {
   "cell_type": "code",
   "execution_count": 19,
   "id": "c50cecbf",
   "metadata": {},
   "outputs": [
    {
     "data": {
      "application/vnd.microsoft.datawrangler.viewer.v0+json": {
       "columns": [
        {
         "name": "index",
         "rawType": "int64",
         "type": "integer"
        },
        {
         "name": "Name",
         "rawType": "object",
         "type": "string"
        },
        {
         "name": "Age",
         "rawType": "int64",
         "type": "integer"
        }
       ],
       "ref": "da248427-43ae-4745-8423-89c5b222a206",
       "rows": [
        [
         "0",
         "Alice",
         "25"
        ],
        [
         "1",
         "Bob",
         "32"
        ],
        [
         "2",
         "Charlie",
         "37"
        ]
       ],
       "shape": {
        "columns": 2,
        "rows": 3
       }
      },
      "text/html": [
       "<div>\n",
       "<style scoped>\n",
       "    .dataframe tbody tr th:only-of-type {\n",
       "        vertical-align: middle;\n",
       "    }\n",
       "\n",
       "    .dataframe tbody tr th {\n",
       "        vertical-align: top;\n",
       "    }\n",
       "\n",
       "    .dataframe thead th {\n",
       "        text-align: right;\n",
       "    }\n",
       "</style>\n",
       "<table border=\"1\" class=\"dataframe\">\n",
       "  <thead>\n",
       "    <tr style=\"text-align: right;\">\n",
       "      <th></th>\n",
       "      <th>Name</th>\n",
       "      <th>Age</th>\n",
       "    </tr>\n",
       "  </thead>\n",
       "  <tbody>\n",
       "    <tr>\n",
       "      <th>0</th>\n",
       "      <td>Alice</td>\n",
       "      <td>25</td>\n",
       "    </tr>\n",
       "    <tr>\n",
       "      <th>1</th>\n",
       "      <td>Bob</td>\n",
       "      <td>32</td>\n",
       "    </tr>\n",
       "    <tr>\n",
       "      <th>2</th>\n",
       "      <td>Charlie</td>\n",
       "      <td>37</td>\n",
       "    </tr>\n",
       "  </tbody>\n",
       "</table>\n",
       "</div>"
      ],
      "text/plain": [
       "      Name  Age\n",
       "0    Alice   25\n",
       "1      Bob   32\n",
       "2  Charlie   37"
      ]
     },
     "execution_count": 19,
     "metadata": {},
     "output_type": "execute_result"
    }
   ],
   "source": [
    "df.iloc[0]              # First row (position 0)\n",
    "df.iloc[0:3]            # First three rows\n",
    "df.iloc[0:3, 0:2]       # First 3 rows, first 2 columns"
   ]
  },
  {
   "cell_type": "code",
   "execution_count": 20,
   "id": "8c3211ed",
   "metadata": {},
   "outputs": [
    {
     "data": {
      "text/plain": [
       "'Charlie'"
      ]
     },
     "execution_count": 20,
     "metadata": {},
     "output_type": "execute_result"
    }
   ],
   "source": [
    "# Get the full first row by label\n",
    "df.loc[0]\n",
    "\n",
    "# Get the first 3 rows and first 2 columns by position\n",
    "df.iloc[0:3, 0:2]\n",
    "\n",
    "# Get the 'Name' of the third row using .iloc\n",
    "df.iloc[2, 0]\n",
    "\n",
    "# Get the same using .loc (if the index is default)\n",
    "df.loc[2, 'Name']"
   ]
  },
  {
   "cell_type": "code",
   "execution_count": 36,
   "id": "3c19ae34",
   "metadata": {},
   "outputs": [
    {
     "name": "stdout",
     "output_type": "stream",
     "text": [
      "   PassengerId  Survived  Pclass  \\\n",
      "0            1         0       3   \n",
      "1            2         1       1   \n",
      "2            3         1       3   \n",
      "3            4         1       1   \n",
      "4            5         0       3   \n",
      "\n",
      "                                                Name     Sex   Age  SibSp  \\\n",
      "0                            Braund, Mr. Owen Harris    male  22.0      1   \n",
      "1  Cumings, Mrs. John Bradley (Florence Briggs Th...  female  38.0      1   \n",
      "2                             Heikkinen, Miss. Laina  female  26.0      0   \n",
      "3       Futrelle, Mrs. Jacques Heath (Lily May Peel)  female  35.0      1   \n",
      "4                           Allen, Mr. William Henry    male  35.0      0   \n",
      "\n",
      "   Parch            Ticket     Fare Cabin Embarked  \n",
      "0      0         A/5 21171   7.2500   NaN        S  \n",
      "1      0          PC 17599  71.2833   C85        C  \n",
      "2      0  STON/O2. 3101282   7.9250   NaN        S  \n",
      "3      0            113803  53.1000  C123        S  \n",
      "4      0            373450   8.0500   NaN        S  \n",
      "Name    Saundercock, Mr. William Henry\n",
      "Age                               20.0\n",
      "Name: 12, dtype: object\n",
      "   PassengerId  Survived  Pclass\n",
      "0            1         0       3\n",
      "1            2         1       1\n",
      "2            3         1       3\n",
      "3            4         1       1\n",
      "4            5         0       3\n",
      "     PassengerId  Survived  Pclass  \\\n",
      "1              2         1       1   \n",
      "3              4         1       1   \n",
      "11            12         1       1   \n",
      "31            32         1       1   \n",
      "52            53         1       1   \n",
      "..           ...       ...     ...   \n",
      "856          857         1       1   \n",
      "862          863         1       1   \n",
      "871          872         1       1   \n",
      "879          880         1       1   \n",
      "887          888         1       1   \n",
      "\n",
      "                                                  Name     Sex   Age  SibSp  \\\n",
      "1    Cumings, Mrs. John Bradley (Florence Briggs Th...  female  38.0      1   \n",
      "3         Futrelle, Mrs. Jacques Heath (Lily May Peel)  female  35.0      1   \n",
      "11                            Bonnell, Miss. Elizabeth  female  58.0      0   \n",
      "31      Spencer, Mrs. William Augustus (Marie Eugenie)  female   NaN      1   \n",
      "52            Harper, Mrs. Henry Sleeper (Myna Haxtun)  female  49.0      1   \n",
      "..                                                 ...     ...   ...    ...   \n",
      "856         Wick, Mrs. George Dennick (Mary Hitchcock)  female  45.0      1   \n",
      "862  Swift, Mrs. Frederick Joel (Margaret Welles Ba...  female  48.0      0   \n",
      "871   Beckwith, Mrs. Richard Leonard (Sallie Monypeny)  female  47.0      1   \n",
      "879      Potter, Mrs. Thomas Jr (Lily Alexenia Wilson)  female  56.0      0   \n",
      "887                       Graham, Miss. Margaret Edith  female  19.0      0   \n",
      "\n",
      "     Parch    Ticket      Fare Cabin Embarked  \n",
      "1        0  PC 17599   71.2833   C85        C  \n",
      "3        0    113803   53.1000  C123        S  \n",
      "11       0    113783   26.5500  C103        S  \n",
      "31       0  PC 17569  146.5208   B78        C  \n",
      "52       0  PC 17572   76.7292   D33        C  \n",
      "..     ...       ...       ...   ...      ...  \n",
      "856      1     36928  164.8667   NaN        S  \n",
      "862      0     17466   25.9292   D17        S  \n",
      "871      1     11751   52.5542   D35        S  \n",
      "879      1     11767   83.1583   C50        C  \n",
      "887      0    112053   30.0000   B42        S  \n",
      "\n",
      "[94 rows x 12 columns]\n",
      "14.0\n",
      "     PassengerId  Survived  Pclass                              Name     Sex  \\\n",
      "100          101         0       3           Petranec, Miss. Matilda  female   \n",
      "101          102         0       3  Petroff, Mr. Pastcho (\"Pentcho\")    male   \n",
      "102          103         0       1         White, Mr. Richard Frasar    male   \n",
      "103          104         0       3        Johansson, Mr. Gustaf Joel    male   \n",
      "104          105         0       3    Gustafsson, Mr. Anders Vilhelm    male   \n",
      "105          106         0       3             Mionoff, Mr. Stoytcho    male   \n",
      "\n",
      "      Age  SibSp  Parch   Ticket     Fare Cabin Embarked  \n",
      "100  28.0      0      0   349245   7.8958   NaN        S  \n",
      "101   NaN      0      0   349215   7.8958   NaN        S  \n",
      "102  21.0      0      1    35281  77.2875   D26        S  \n",
      "103  33.0      0      0     7540   8.6542   NaN        S  \n",
      "104  37.0      2      0  3101276   7.9250   NaN        S  \n",
      "105  28.0      0      0   349207   7.8958   NaN        S   ['Fare', 'Survived']\n"
     ]
    }
   ],
   "source": [
    "# Run the code below to load a real dataset from the web. Then complete the prompts using Pandas indexing tools.\n",
    "import pandas as pd\n",
    "\n",
    "# Load Titanic dataset directly from GitHub\n",
    "url = 'https://raw.githubusercontent.com/datasciencedojo/datasets/master/titanic.csv'\n",
    "df = pd.read_csv(url)\n",
    "\n",
    "# Preview the data\n",
    "print(df.head())\n",
    "\n",
    "# Now answer the following using .loc[] and .iloc[] Put your answers inside the print statements!\n",
    "# 1. Use .loc to get the name and age of the passenger with index 12\n",
    "print(df.loc[12, ['Name', 'Age']])\n",
    "\n",
    "# 2. Use .iloc to get the first 5 rows and first 3 columns\n",
    "print(df.iloc[0:5, 0:3])\n",
    "\n",
    "# 3. Use .loc to get all passengers in 1st class who are female\n",
    "print(df.loc[(df['Pclass'] == 1) & (df['Sex'] == 'female')])\n",
    "\n",
    "# 4. Use .iloc to get the age of the 10th passenger (by position)\n",
    "print(df.iloc[9]['Age'])\n",
    "\n",
    "# 5. Use .loc to get the 'Fare' and 'Survived' values for passengers with index 100 to 105\n",
    "print(df.loc[100:105],['Fare', 'Survived'])"
   ]
  },
  {
   "cell_type": "code",
   "execution_count": null,
   "id": "eddd7e6e",
   "metadata": {},
   "outputs": [
    {
     "data": {
      "application/vnd.microsoft.datawrangler.viewer.v0+json": {
       "columns": [
        {
         "name": "index",
         "rawType": "object",
         "type": "string"
        },
        {
         "name": "PassengerId",
         "rawType": "float64",
         "type": "float"
        },
        {
         "name": "Survived",
         "rawType": "float64",
         "type": "float"
        },
        {
         "name": "Pclass",
         "rawType": "float64",
         "type": "float"
        },
        {
         "name": "Age",
         "rawType": "float64",
         "type": "float"
        },
        {
         "name": "SibSp",
         "rawType": "float64",
         "type": "float"
        },
        {
         "name": "Parch",
         "rawType": "float64",
         "type": "float"
        },
        {
         "name": "Fare",
         "rawType": "float64",
         "type": "float"
        }
       ],
       "ref": "6292a42a-b130-4d9a-8571-ad10a2fe76f1",
       "rows": [
        [
         "count",
         "891.0",
         "891.0",
         "891.0",
         "714.0",
         "891.0",
         "891.0",
         "891.0"
        ],
        [
         "mean",
         "446.0",
         "0.3838383838383838",
         "2.308641975308642",
         "29.69911764705882",
         "0.5230078563411896",
         "0.38159371492704824",
         "32.204207968574636"
        ],
        [
         "std",
         "257.3538420152301",
         "0.4865924542648575",
         "0.836071240977049",
         "14.526497332334042",
         "1.1027434322934317",
         "0.8060572211299483",
         "49.6934285971809"
        ],
        [
         "min",
         "1.0",
         "0.0",
         "1.0",
         "0.42",
         "0.0",
         "0.0",
         "0.0"
        ],
        [
         "25%",
         "223.5",
         "0.0",
         "2.0",
         "20.125",
         "0.0",
         "0.0",
         "7.9104"
        ],
        [
         "50%",
         "446.0",
         "0.0",
         "3.0",
         "28.0",
         "0.0",
         "0.0",
         "14.4542"
        ],
        [
         "75%",
         "668.5",
         "1.0",
         "3.0",
         "38.0",
         "1.0",
         "0.0",
         "31.0"
        ],
        [
         "max",
         "891.0",
         "1.0",
         "3.0",
         "80.0",
         "8.0",
         "6.0",
         "512.3292"
        ]
       ],
       "shape": {
        "columns": 7,
        "rows": 8
       }
      },
      "text/html": [
       "<div>\n",
       "<style scoped>\n",
       "    .dataframe tbody tr th:only-of-type {\n",
       "        vertical-align: middle;\n",
       "    }\n",
       "\n",
       "    .dataframe tbody tr th {\n",
       "        vertical-align: top;\n",
       "    }\n",
       "\n",
       "    .dataframe thead th {\n",
       "        text-align: right;\n",
       "    }\n",
       "</style>\n",
       "<table border=\"1\" class=\"dataframe\">\n",
       "  <thead>\n",
       "    <tr style=\"text-align: right;\">\n",
       "      <th></th>\n",
       "      <th>PassengerId</th>\n",
       "      <th>Survived</th>\n",
       "      <th>Pclass</th>\n",
       "      <th>Age</th>\n",
       "      <th>SibSp</th>\n",
       "      <th>Parch</th>\n",
       "      <th>Fare</th>\n",
       "    </tr>\n",
       "  </thead>\n",
       "  <tbody>\n",
       "    <tr>\n",
       "      <th>count</th>\n",
       "      <td>891.000000</td>\n",
       "      <td>891.000000</td>\n",
       "      <td>891.000000</td>\n",
       "      <td>714.000000</td>\n",
       "      <td>891.000000</td>\n",
       "      <td>891.000000</td>\n",
       "      <td>891.000000</td>\n",
       "    </tr>\n",
       "    <tr>\n",
       "      <th>mean</th>\n",
       "      <td>446.000000</td>\n",
       "      <td>0.383838</td>\n",
       "      <td>2.308642</td>\n",
       "      <td>29.699118</td>\n",
       "      <td>0.523008</td>\n",
       "      <td>0.381594</td>\n",
       "      <td>32.204208</td>\n",
       "    </tr>\n",
       "    <tr>\n",
       "      <th>std</th>\n",
       "      <td>257.353842</td>\n",
       "      <td>0.486592</td>\n",
       "      <td>0.836071</td>\n",
       "      <td>14.526497</td>\n",
       "      <td>1.102743</td>\n",
       "      <td>0.806057</td>\n",
       "      <td>49.693429</td>\n",
       "    </tr>\n",
       "    <tr>\n",
       "      <th>min</th>\n",
       "      <td>1.000000</td>\n",
       "      <td>0.000000</td>\n",
       "      <td>1.000000</td>\n",
       "      <td>0.420000</td>\n",
       "      <td>0.000000</td>\n",
       "      <td>0.000000</td>\n",
       "      <td>0.000000</td>\n",
       "    </tr>\n",
       "    <tr>\n",
       "      <th>25%</th>\n",
       "      <td>223.500000</td>\n",
       "      <td>0.000000</td>\n",
       "      <td>2.000000</td>\n",
       "      <td>20.125000</td>\n",
       "      <td>0.000000</td>\n",
       "      <td>0.000000</td>\n",
       "      <td>7.910400</td>\n",
       "    </tr>\n",
       "    <tr>\n",
       "      <th>50%</th>\n",
       "      <td>446.000000</td>\n",
       "      <td>0.000000</td>\n",
       "      <td>3.000000</td>\n",
       "      <td>28.000000</td>\n",
       "      <td>0.000000</td>\n",
       "      <td>0.000000</td>\n",
       "      <td>14.454200</td>\n",
       "    </tr>\n",
       "    <tr>\n",
       "      <th>75%</th>\n",
       "      <td>668.500000</td>\n",
       "      <td>1.000000</td>\n",
       "      <td>3.000000</td>\n",
       "      <td>38.000000</td>\n",
       "      <td>1.000000</td>\n",
       "      <td>0.000000</td>\n",
       "      <td>31.000000</td>\n",
       "    </tr>\n",
       "    <tr>\n",
       "      <th>max</th>\n",
       "      <td>891.000000</td>\n",
       "      <td>1.000000</td>\n",
       "      <td>3.000000</td>\n",
       "      <td>80.000000</td>\n",
       "      <td>8.000000</td>\n",
       "      <td>6.000000</td>\n",
       "      <td>512.329200</td>\n",
       "    </tr>\n",
       "  </tbody>\n",
       "</table>\n",
       "</div>"
      ],
      "text/plain": [
       "       PassengerId    Survived      Pclass         Age       SibSp  \\\n",
       "count   891.000000  891.000000  891.000000  714.000000  891.000000   \n",
       "mean    446.000000    0.383838    2.308642   29.699118    0.523008   \n",
       "std     257.353842    0.486592    0.836071   14.526497    1.102743   \n",
       "min       1.000000    0.000000    1.000000    0.420000    0.000000   \n",
       "25%     223.500000    0.000000    2.000000   20.125000    0.000000   \n",
       "50%     446.000000    0.000000    3.000000   28.000000    0.000000   \n",
       "75%     668.500000    1.000000    3.000000   38.000000    1.000000   \n",
       "max     891.000000    1.000000    3.000000   80.000000    8.000000   \n",
       "\n",
       "            Parch        Fare  \n",
       "count  891.000000  891.000000  \n",
       "mean     0.381594   32.204208  \n",
       "std      0.806057   49.693429  \n",
       "min      0.000000    0.000000  \n",
       "25%      0.000000    7.910400  \n",
       "50%      0.000000   14.454200  \n",
       "75%      0.000000   31.000000  \n",
       "max      6.000000  512.329200  "
      ]
     },
     "execution_count": 37,
     "metadata": {},
     "output_type": "execute_result"
    }
   ],
   "source": [
    "df.describe()\n",
    "#gives quick stat summary of the data frame"
   ]
  },
  {
   "cell_type": "code",
   "execution_count": null,
   "id": "d20e4591",
   "metadata": {},
   "outputs": [
    {
     "data": {
      "application/vnd.microsoft.datawrangler.viewer.v0+json": {
       "columns": [
        {
         "name": "Pclass",
         "rawType": "int64",
         "type": "integer"
        },
        {
         "name": "count",
         "rawType": "int64",
         "type": "integer"
        }
       ],
       "ref": "f2e4c95f-16de-4361-80b2-e3edc221dc05",
       "rows": [
        [
         "3",
         "491"
        ],
        [
         "1",
         "216"
        ],
        [
         "2",
         "184"
        ]
       ],
       "shape": {
        "columns": 1,
        "rows": 3
       }
      },
      "text/plain": [
       "Pclass\n",
       "3    491\n",
       "1    216\n",
       "2    184\n",
       "Name: count, dtype: int64"
      ]
     },
     "execution_count": 38,
     "metadata": {},
     "output_type": "execute_result"
    }
   ],
   "source": [
    "df['Sex'].value_counts()\n",
    "df['Pclass'].value_counts()\n",
    "#value count is for categories"
   ]
  },
  {
   "cell_type": "code",
   "execution_count": 39,
   "id": "46539d15",
   "metadata": {},
   "outputs": [
    {
     "data": {
      "application/vnd.microsoft.datawrangler.viewer.v0+json": {
       "columns": [
        {
         "name": "Embarked",
         "rawType": "object",
         "type": "string"
        },
        {
         "name": "count",
         "rawType": "int64",
         "type": "integer"
        }
       ],
       "ref": "61a59309-3195-4aaf-9062-594e4829b4d1",
       "rows": [
        [
         "Q",
         "77"
        ],
        [
         "C",
         "168"
        ],
        [
         "S",
         "644"
        ]
       ],
       "shape": {
        "columns": 1,
        "rows": 3
       }
      },
      "text/plain": [
       "Embarked\n",
       "Q     77\n",
       "C    168\n",
       "S    644\n",
       "Name: count, dtype: int64"
      ]
     },
     "execution_count": 39,
     "metadata": {},
     "output_type": "execute_result"
    }
   ],
   "source": [
    "df['Embarked'].value_counts(ascending=True)"
   ]
  },
  {
   "cell_type": "code",
   "execution_count": 40,
   "id": "405ff648",
   "metadata": {},
   "outputs": [
    {
     "data": {
      "text/plain": [
       "3"
      ]
     },
     "execution_count": 40,
     "metadata": {},
     "output_type": "execute_result"
    }
   ],
   "source": [
    "df['Age'].mean()       # Average age\n",
    "df['Age'].median()     # Middle value\n",
    "df['Age'].min()        # Youngest passenger\n",
    "df['Age'].max()        # Oldest passenger\n",
    "df['Age'].nunique()    # Number of unique ages\n",
    "df['Embarked'].nunique()  # Number of unique embarkation ports"
   ]
  },
  {
   "cell_type": "code",
   "execution_count": null,
   "id": "2cd626af",
   "metadata": {},
   "outputs": [],
   "source": [
    "# Load Titanic dataset\n",
    "url = 'https://raw.githubusercontent.com/datasciencedojo/datasets/master/titanic.csv'\n",
    "df = pd.read_csv(url)\n",
    "\n",
    "# Preview the data\n",
    "df.head()\n",
    "\n",
    "# Now answer the following using .describe(), .value_counts(), and column-level summary functions. \n",
    "# Put your code INSIDE the print statements!\n",
    "\n",
    "# 1. Use .describe() to summarize the numeric columns\n",
    "print(df.describe())"
   ]
  },
  {
   "cell_type": "code",
   "execution_count": null,
   "id": "1151c347",
   "metadata": {},
   "outputs": [],
   "source": [
    "# 2. Use .value_counts() to see counts for embarkation ports\n",
    "print()\n"
   ]
  },
  {
   "cell_type": "code",
   "execution_count": null,
   "id": "7be1e3ea",
   "metadata": {},
   "outputs": [],
   "source": [
    "# 3. Use .value_counts() to count passenger classes\n",
    "print()\n"
   ]
  },
  {
   "cell_type": "code",
   "execution_count": null,
   "id": "cc8e928c",
   "metadata": {},
   "outputs": [],
   "source": [
    "# 4. Show the average (mean) age of passengers\n",
    "print()\n"
   ]
  },
  {
   "cell_type": "code",
   "execution_count": null,
   "id": "a6778bb5",
   "metadata": {},
   "outputs": [],
   "source": [
    "# 5. Show the maximum fare paid\n",
    "print()\n"
   ]
  },
  {
   "cell_type": "code",
   "execution_count": null,
   "id": "26f7aae0",
   "metadata": {},
   "outputs": [],
   "source": [
    "# 6. Show how many unique names are in the dataset\n",
    "print()\n"
   ]
  },
  {
   "cell_type": "code",
   "execution_count": null,
   "id": "05c414e9",
   "metadata": {},
   "outputs": [],
   "source": [
    "# 7. Show counts for values in the 'Sex' column\n",
    "print()"
   ]
  },
  {
   "cell_type": "code",
   "execution_count": null,
   "id": "019e3c2b",
   "metadata": {},
   "outputs": [],
   "source": []
  },
  {
   "cell_type": "code",
   "execution_count": null,
   "id": "ff62d276",
   "metadata": {},
   "outputs": [],
   "source": []
  }
 ],
 "metadata": {
  "kernelspec": {
   "display_name": "Python 3",
   "language": "python",
   "name": "python3"
  },
  "language_info": {
   "codemirror_mode": {
    "name": "ipython",
    "version": 3
   },
   "file_extension": ".py",
   "mimetype": "text/x-python",
   "name": "python",
   "nbconvert_exporter": "python",
   "pygments_lexer": "ipython3",
   "version": "3.13.5"
  }
 },
 "nbformat": 4,
 "nbformat_minor": 5
}
